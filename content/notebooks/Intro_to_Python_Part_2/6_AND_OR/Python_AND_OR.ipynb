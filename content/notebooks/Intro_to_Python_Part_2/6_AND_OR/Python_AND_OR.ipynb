{
  "cells": [
    {
      "cell_type": "markdown",
      "metadata": {},
      "source": [
        "# Python - AND & OR"
      ]
    },
    {
      "cell_type": "markdown",
      "metadata": {},
      "source": [
        "Often when coding we want to access whether more than one condition is true. We can do this using **logical operators** - such as **AND** and **OR**."
      ]
    },
    {
      "cell_type": "markdown",
      "metadata": {},
      "source": [
        "## AND"
      ]
    },
    {
      "cell_type": "markdown",
      "metadata": {},
      "source": [
        "All conditions **must** be true."
      ]
    },
    {
      "cell_type": "code",
      "execution_count": null,
      "metadata": {
        "trusted": true
      },
      "outputs": [],
      "source": [
        "age = 25\n",
        "has_id = True\n",
        "\n",
        "if age >= 18 and has_id:\n",
        "    print(\"You can enter.\")\n",
        "else:\n",
        "    print(\"You cannot enter.\")"
      ]
    },
    {
      "cell_type": "markdown",
      "metadata": {},
      "source": [
        "## OR"
      ]
    },
    {
      "cell_type": "markdown",
      "metadata": {},
      "source": [
        "At least **one** conditions must be true."
      ]
    },
    {
      "cell_type": "code",
      "execution_count": null,
      "metadata": {
        "trusted": true
      },
      "outputs": [],
      "source": [
        "is_member = False\n",
        "has_guest_pass = True\n",
        "\n",
        "if is_member or has_guest_pass:\n",
        "    print(\"Access granted.\")\n",
        "else:\n",
        "    print(\"Access denied.\")"
      ]
    },
    {
      "cell_type": "markdown",
      "metadata": {},
      "source": [
        "## Combining AND and OR"
      ]
    },
    {
      "cell_type": "markdown",
      "metadata": {},
      "source": [
        "This can be really useful for complex logic - use brackets to make the logic clear and avoid mistakes."
      ]
    },
    {
      "cell_type": "code",
      "execution_count": null,
      "metadata": {
        "trusted": true
      },
      "outputs": [],
      "source": [
        "temperature = 25\n",
        "sunny = True\n",
        "weekend = False\n",
        "\n",
        "# Checks if it's a nice day to go to the beach\n",
        "if temperature >= 20 and (sunny or weekend):\n",
        "   print(\"Good beach day!\")  # This prints because temp is 25 and sunny is True\n",
        "else:\n",
        "   print(\"Not a good beach day\")"
      ]
    },
    {
      "cell_type": "markdown",
      "metadata": {},
      "source": [
        "Python evaluates AND before OR if no brackets are used (so in this case the brackets aren't needed but it is good to include them so the logic is clear)."
      ]
    },
    {
      "cell_type": "markdown",
      "metadata": {},
      "source": [
        "### Important of Brackets"
      ]
    },
    {
      "cell_type": "code",
      "execution_count": null,
      "metadata": {
        "trusted": true
      },
      "outputs": [],
      "source": [
        "sunny = True\n",
        "warm = False\n",
        "raining = True\n",
        "\n",
        "if sunny and warm or raining:  # True\n",
        "    print(\"True only if raining is True\")\n",
        "\n",
        "if (sunny and warm) or raining:  # True  \n",
        "    print(\"True if raining is True, or both warm and sunny are True\")\n",
        "\n",
        "if sunny and (warm or raining):  # False\n",
        "    print(\"True if sunny is True, and one of warm and raining is True\")"
      ]
    }
  ],
  "metadata": {
    "kernelspec": {
      "display_name": "Python (Pyodide)",
      "language": "python",
      "name": "python"
    },
    "language_info": {
      "codemirror_mode": {
        "name": "python",
        "version": 3
      },
      "file_extension": ".py",
      "mimetype": "text/x-python",
      "name": "python",
      "nbconvert_exporter": "python",
      "pygments_lexer": "ipython3",
      "version": "3.8"
    }
  },
  "nbformat": 4,
  "nbformat_minor": 4
}
