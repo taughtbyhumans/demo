{
  "cells": [
    {
      "cell_type": "markdown",
      "metadata": {},
      "source": [
        "# Python - FOR Loops Using Range"
      ]
    },
    {
      "cell_type": "markdown",
      "metadata": {},
      "source": [
        "We might want our code to run a set number of times, we have a few options for this:"
      ]
    },
    {
      "cell_type": "markdown",
      "metadata": {},
      "source": [
        "**1. FOR Loops With a List**"
      ]
    },
    {
      "cell_type": "code",
      "execution_count": null,
      "metadata": {
        "trusted": true
      },
      "outputs": [],
      "source": [
        "for x in [1,2,3]:\n",
        "    print(x)"
      ]
    },
    {
      "cell_type": "markdown",
      "metadata": {},
      "source": [
        "But imagine if the number was very large, this could be very time consuming, take up a lot of memort and is prone to human errors."
      ]
    },
    {
      "cell_type": "markdown",
      "metadata": {},
      "source": [
        "**2. WHILE LOOP**"
      ]
    },
    {
      "cell_type": "code",
      "execution_count": null,
      "metadata": {
        "trusted": true
      },
      "outputs": [],
      "source": [
        "x = 1\n",
        "\n",
        "while x < 4:\n",
        "    print(x)\n",
        "    x += 1"
      ]
    },
    {
      "cell_type": "markdown",
      "metadata": {},
      "source": [
        "This works, but we need to know how many times we want the code to run and we need to add the +1 calculation. And there is a risk of accidentally running an infinite loop.\n",
        "\n",
        "WHILE loops are better suited if we don't know how many times we need the code to run."
      ]
    },
    {
      "cell_type": "markdown",
      "metadata": {},
      "source": [
        "**3. FOR Loops With a RANGE**"
      ]
    },
    {
      "cell_type": "code",
      "execution_count": null,
      "metadata": {
        "trusted": true
      },
      "outputs": [],
      "source": [
        "for x in range(1,4):\n",
        "    print(x)"
      ]
    },
    {
      "cell_type": "markdown",
      "metadata": {},
      "source": [
        "range(*start*, *stop*, *[steps]*)\n",
        "\n",
        "Note: *stop* does not include that number. It is the same as saying less than, not less than or equals."
      ]
    },
    {
      "cell_type": "code",
      "execution_count": null,
      "metadata": {
        "trusted": true
      },
      "outputs": [],
      "source": [
        "for x in range(0,100,5):\n",
        "    print(x)"
      ]
    }
  ],
  "metadata": {
    "kernelspec": {
      "display_name": "Python (Pyodide)",
      "language": "python",
      "name": "python"
    },
    "language_info": {
      "codemirror_mode": {
        "name": "python",
        "version": 3
      },
      "file_extension": ".py",
      "mimetype": "text/x-python",
      "name": "python",
      "nbconvert_exporter": "python",
      "pygments_lexer": "ipython3",
      "version": "3.8"
    }
  },
  "nbformat": 4,
  "nbformat_minor": 4
}
