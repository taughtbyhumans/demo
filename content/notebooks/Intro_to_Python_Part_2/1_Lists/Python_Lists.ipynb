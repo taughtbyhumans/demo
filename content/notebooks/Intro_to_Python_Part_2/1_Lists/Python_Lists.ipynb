{
  "cells": [
    {
      "cell_type": "markdown",
      "metadata": {
        "id": "Cr5YdSOXLziJ"
      },
      "source": [
        "# Python - Lists"
      ]
    },
    {
      "cell_type": "markdown",
      "metadata": {
        "id": "xDyx_PYG-lhH"
      },
      "source": [
        "In pure Python, there is no native array data type like in other programming languages (e.g., C or Java). Instead, lists in Python can be used in a similar way because they:\n",
        "\n",
        "* Store ordered collections of data.\n",
        "* Allow indexing and slicing to access elements.\n",
        "* Support dynamic sizing (they grow or shrink as needed)."
      ]
    },
    {
      "cell_type": "markdown",
      "metadata": {},
      "source": [
        "## Creating Lists"
      ]
    },
    {
      "cell_type": "code",
      "execution_count": null,
      "metadata": {
        "id": "vnA1FgpWs4NF",
        "trusted": true
      },
      "outputs": [],
      "source": [
        "my_list = [\"item1\", \"item2\", \"item3\"]\n",
        "\n",
        "print(my_list)"
      ]
    },
    {
      "cell_type": "code",
      "execution_count": null,
      "metadata": {
        "id": "9gFVTfBbtKHL",
        "trusted": true
      },
      "outputs": [],
      "source": [
        "another_list = [1,2,3,4]\n",
        "\n",
        "print(another_list)"
      ]
    },
    {
      "cell_type": "markdown",
      "metadata": {},
      "source": [
        "Lists do not all have to be the same data type:"
      ]
    },
    {
      "cell_type": "code",
      "execution_count": null,
      "metadata": {
        "trusted": true
      },
      "outputs": [],
      "source": [
        "items = [4, \"hello\", True]\n",
        "\n",
        "print(items)"
      ]
    },
    {
      "cell_type": "markdown",
      "metadata": {},
      "source": [
        "## Accessing Items in a List"
      ]
    },
    {
      "cell_type": "markdown",
      "metadata": {},
      "source": [
        "**IMPORTANT** - List items start at 0, not 1."
      ]
    },
    {
      "cell_type": "code",
      "execution_count": null,
      "metadata": {
        "trusted": true
      },
      "outputs": [],
      "source": [
        "my_list[1]"
      ]
    },
    {
      "cell_type": "markdown",
      "metadata": {},
      "source": [
        "You cannot access items with an **index** higher than exists:"
      ]
    },
    {
      "cell_type": "code",
      "execution_count": null,
      "metadata": {
        "id": "a5KCsiIAm3Xg",
        "trusted": true
      },
      "outputs": [],
      "source": [
        "another_list[4]"
      ]
    },
    {
      "cell_type": "markdown",
      "metadata": {},
      "source": [
        "You can access multiple items at a time:"
      ]
    },
    {
      "cell_type": "code",
      "execution_count": null,
      "metadata": {
        "id": "9gFVTfBbtKHL",
        "trusted": true
      },
      "outputs": [],
      "source": [
        "another_list[0:2] #note this does not include another_list[3]"
      ]
    },
    {
      "cell_type": "markdown",
      "metadata": {},
      "source": [
        "list[start_index, end_index]\n",
        "* start_index includes from this index\n",
        "* end_index is up to but not including the index"
      ]
    },
    {
      "cell_type": "code",
      "execution_count": null,
      "metadata": {
        "trusted": true
      },
      "outputs": [],
      "source": [
        "result = [items[0], items[2]]\n",
        "print(result)"
      ]
    }
  ],
  "metadata": {
    "colab": {
      "provenance": [],
      "toc_visible": true
    },
    "kernelspec": {
      "display_name": "Python 3",
      "language": "python",
      "name": "python3"
    },
    "language_info": {
      "codemirror_mode": {
        "name": "ipython",
        "version": 3
      },
      "file_extension": ".py",
      "mimetype": "text/x-python",
      "name": "python",
      "nbconvert_exporter": "python",
      "pygments_lexer": "ipython3",
      "version": "3.9.6"
    }
  },
  "nbformat": 4,
  "nbformat_minor": 4
}
