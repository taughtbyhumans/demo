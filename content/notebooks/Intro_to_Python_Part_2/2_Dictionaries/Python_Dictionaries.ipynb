{
  "cells": [
    {
      "cell_type": "markdown",
      "metadata": {
        "id": "Cr5YdSOXLziJ"
      },
      "source": [
        "# Python - Dictionaries"
      ]
    },
    {
      "cell_type": "markdown",
      "metadata": {
        "id": "yy2l0Yz7-nUP"
      },
      "source": [
        "A **dictionary** is a way to store **key-value pairs in Python**. Each key maps to a value, allowing you to quickly look up data based on its key. Similar to looking a word up in an actual dictionary and getting the definition."
      ]
    },
    {
      "cell_type": "markdown",
      "metadata": {},
      "source": [
        "## Example - Creating a Dictionary"
      ]
    },
    {
      "cell_type": "code",
      "execution_count": null,
      "metadata": {
        "id": "G4fFQ0qxvAGZ",
        "trusted": true
      },
      "outputs": [],
      "source": [
        "my_dict = {\n",
        "    \"key1\": \"value\",   # String value\n",
        "    \"key2\": 2,         # Integer value\n",
        "    \"key3\": True,      # Boolean value\n",
        "    \"key4\": {          # Nested dictionary\n",
        "        \"key5\": \"name\",\n",
        "        \"key6\": 5\n",
        "    }\n",
        "}\n",
        "\n",
        "print(my_dict)"
      ]
    },
    {
      "cell_type": "markdown",
      "metadata": {},
      "source": [
        "## Accessing Values"
      ]
    },
    {
      "cell_type": "code",
      "execution_count": null,
      "metadata": {
        "trusted": true
      },
      "outputs": [],
      "source": [
        "my_dict[\"key1\"]"
      ]
    },
    {
      "cell_type": "code",
      "execution_count": null,
      "metadata": {
        "id": "pxv7fBV9vQ1A",
        "trusted": true
      },
      "outputs": [],
      "source": [
        "my_dict[\"key4\"][\"key6\"]"
      ]
    },
    {
      "cell_type": "markdown",
      "metadata": {},
      "source": [
        "## Adding Values"
      ]
    },
    {
      "cell_type": "code",
      "execution_count": null,
      "metadata": {
        "trusted": true
      },
      "outputs": [],
      "source": [
        "my_dict[\"key7\"] = \"new value\"\n",
        "print(my_dict)"
      ]
    },
    {
      "cell_type": "markdown",
      "metadata": {},
      "source": [
        "## Changing Values"
      ]
    },
    {
      "cell_type": "code",
      "execution_count": null,
      "metadata": {
        "trusted": true
      },
      "outputs": [],
      "source": [
        "my_dict[\"key2\"] = 10\n",
        "print(my_dict)"
      ]
    },
    {
      "cell_type": "markdown",
      "metadata": {},
      "source": [
        "## Removing Values"
      ]
    },
    {
      "cell_type": "code",
      "execution_count": null,
      "metadata": {
        "trusted": true
      },
      "outputs": [],
      "source": [
        "del my_dict[\"key3\"]  # Remove key3\n",
        "print(my_dict)"
      ]
    },
    {
      "cell_type": "markdown",
      "metadata": {},
      "source": [
        "## Notes"
      ]
    },
    {
      "cell_type": "markdown",
      "metadata": {},
      "source": [
        "* Keys Must Be Unique – No duplicate keys allowed.\n",
        "* Keys Must Be Immutable – Use strings, numbers, or tuples as keys (not lists).\n",
        "* Values Can Be Any Type – Strings, numbers, lists, or even another dictionary (nested)."
      ]
    },
    {
      "cell_type": "markdown",
      "metadata": {},
      "source": [
        "## Example"
      ]
    },
    {
      "cell_type": "code",
      "execution_count": null,
      "metadata": {
        "trusted": true
      },
      "outputs": [],
      "source": [
        "user = {\n",
        "    \"name\": \"Laura\",\n",
        "    \"user_id\": 1,\n",
        "    \"admin_user\": True,\n",
        "    \"settings\": {\n",
        "        \"dark_theme\": True,\n",
        "        \"language\": \"english\",\n",
        "        \"timezone\": \"gmt\"\n",
        "    }\n",
        "}\n",
        "\n",
        "print(user)"
      ]
    }
  ],
  "metadata": {
    "colab": {
      "provenance": [],
      "toc_visible": true
    },
    "kernelspec": {
      "display_name": "Python (Pyodide)",
      "language": "python",
      "name": "python"
    },
    "language_info": {
      "codemirror_mode": {
        "name": "python",
        "version": 3
      },
      "file_extension": ".py",
      "mimetype": "text/x-python",
      "name": "python",
      "nbconvert_exporter": "python",
      "pygments_lexer": "ipython3",
      "version": "3.8"
    }
  },
  "nbformat": 4,
  "nbformat_minor": 4
}
