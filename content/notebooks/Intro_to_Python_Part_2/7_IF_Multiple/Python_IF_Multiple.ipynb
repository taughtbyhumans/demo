{
  "cells": [
    {
      "cell_type": "markdown",
      "metadata": {},
      "source": [
        "# Python - IF - Multiple Conditions"
      ]
    },
    {
      "cell_type": "markdown",
      "metadata": {},
      "source": [
        "If using multiple conditions in an IF statement, both AND and OR can be used, but remember to use brackets:"
      ]
    },
    {
      "cell_type": "code",
      "execution_count": null,
      "metadata": {
        "trusted": true
      },
      "outputs": [],
      "source": [
        "years_service = 4\n",
        "performance_rating = \"Excellent\"\n",
        "is_manager = True\n",
        "\n",
        "if (years_service >= 5 and performance_rating == \"Excellent\") or is_manager:\n",
        "    print(\"Eligible for bonus.\")\n",
        "else:\n",
        "    print(\"Not eligible for bonus.\")"
      ]
    },
    {
      "cell_type": "markdown",
      "metadata": {},
      "source": [
        "## Many Conditions"
      ]
    },
    {
      "cell_type": "code",
      "execution_count": null,
      "metadata": {
        "trusted": true
      },
      "outputs": [],
      "source": [
        "role = \"Manager\"   # Text condition\n",
        "experience = 3     # Number condition (years)\n",
        "\n",
        "if role == \"Manager\" and experience < 2:\n",
        "    print(\"We recommend the 'New Manager Essentials' training programme.\")\n",
        "elif role == \"Manager\" and experience >= 2:\n",
        "    print(\"Consider the 'Advanced Leadership' workshop.\")\n",
        "elif role == \"Analyst\" and experience < 1:\n",
        "    print(\"Start with 'Data Fundamentals' training.\")\n",
        "elif role == \"Analyst\" and experience >= 1:\n",
        "    print(\"Upgrade to 'Advanced Analytics and Reporting' training.\")\n",
        "else:\n",
        "    print(\"Explore custom training options based on your role.\")"
      ]
    },
    {
      "cell_type": "markdown",
      "metadata": {},
      "source": [
        "## Nested IFs"
      ]
    },
    {
      "cell_type": "markdown",
      "metadata": {},
      "source": [
        "Instead of having very specific conditions, and reaccessing conditions (in this example the code checks what role is equal to each time), we can put IF statements within IF statements (called **Nested IFs**):"
      ]
    },
    {
      "cell_type": "code",
      "execution_count": null,
      "metadata": {
        "trusted": true
      },
      "outputs": [],
      "source": [
        "role = \"Manager\"   # Text condition\n",
        "experience = 3     # Number condition (years)\n",
        "\n",
        "if role == \"Manager\":\n",
        "    if experience < 2:\n",
        "        print(\"We recommend the 'New Manager Essentials' training programme.\")\n",
        "    else:\n",
        "        print(\"Consider the 'Advanced Leadership' workshop.\")\n",
        "elif role == \"Analyst\":\n",
        "    if experience < 1:\n",
        "        print(\"Start with 'Data Fundamentals' training.\")\n",
        "    else:\n",
        "        print(\"Upgrade to 'Advanced Analytics and Reporting' training.\")\n",
        "else:\n",
        "    print(\"Explore custom training options based on your role.\")"
      ]
    },
    {
      "cell_type": "markdown",
      "metadata": {},
      "source": [
        "These can help with the readability of the logic, and speed up complex logic calculations.\n",
        "\n",
        "It is important to make sure the indents of the code are correct - this determines what code is run as part of each IF statement."
      ]
    }
  ],
  "metadata": {
    "kernelspec": {
      "display_name": "Python (Pyodide)",
      "language": "python",
      "name": "python"
    },
    "language_info": {
      "codemirror_mode": {
        "name": "python",
        "version": 3
      },
      "file_extension": ".py",
      "mimetype": "text/x-python",
      "name": "python",
      "nbconvert_exporter": "python",
      "pygments_lexer": "ipython3",
      "version": "3.8"
    }
  },
  "nbformat": 4,
  "nbformat_minor": 4
}
