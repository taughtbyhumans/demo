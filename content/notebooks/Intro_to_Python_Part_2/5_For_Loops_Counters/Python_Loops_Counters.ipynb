{
  "cells": [
    {
      "cell_type": "markdown",
      "metadata": {},
      "source": [
        "# Python Loops - Lists and Counters"
      ]
    },
    {
      "cell_type": "markdown",
      "metadata": {},
      "source": [
        "When using lists in our loops, we want want to access the item from the list or the index of the item to be used in our code."
      ]
    },
    {
      "cell_type": "code",
      "execution_count": 9,
      "metadata": {
        "trusted": true
      },
      "outputs": [],
      "source": [
        "names = [\"Alice\", \"Bob\", \"Carol\"]"
      ]
    },
    {
      "cell_type": "markdown",
      "metadata": {},
      "source": [
        "## Iterating Through a List"
      ]
    },
    {
      "cell_type": "code",
      "execution_count": null,
      "metadata": {
        "trusted": true
      },
      "outputs": [],
      "source": [
        "for name in names:\n",
        "    print(name)"
      ]
    },
    {
      "cell_type": "markdown",
      "metadata": {},
      "source": [
        "## Using Range With Lists"
      ]
    },
    {
      "cell_type": "code",
      "execution_count": null,
      "metadata": {
        "trusted": true
      },
      "outputs": [],
      "source": [
        "for i in range(3):\n",
        "   print(names[i])"
      ]
    },
    {
      "cell_type": "markdown",
      "metadata": {},
      "source": [
        "* range(3) generates numbers: 0,1,2 (like using range(0,3))\n",
        "* The loop variable (i) takes each value in turn\n",
        "* i is the counter - commonly i but can be any name\n",
        "* i tells us which position in the list to access (this position is called the index)"
      ]
    },
    {
      "cell_type": "markdown",
      "metadata": {},
      "source": [
        "Each loop:\n",
        "\n",
        "* i = 0: gets first item \"Alice\" - names\\[0]\n",
        "* i = 1: gets second item \"Bob\" - names\\[1]\n",
        "* i = 2: gets third item \"Carol\" - names\\[2]"
      ]
    },
    {
      "cell_type": "markdown",
      "metadata": {},
      "source": [
        "## Using the Index"
      ]
    },
    {
      "cell_type": "markdown",
      "metadata": {},
      "source": [
        "Using the i in range() is useful because we might want to use the index, not just the item value in our code:"
      ]
    },
    {
      "cell_type": "code",
      "execution_count": null,
      "metadata": {
        "trusted": true
      },
      "outputs": [],
      "source": [
        "for i in range(3):\n",
        "   print(f\"Person {i+1} is {names[i]}\")"
      ]
    },
    {
      "cell_type": "markdown",
      "metadata": {},
      "source": [
        "## Using Len"
      ]
    },
    {
      "cell_type": "code",
      "execution_count": null,
      "metadata": {
        "trusted": true
      },
      "outputs": [],
      "source": [
        "for i in range(len(names)):  # len(names) is 3\n",
        "    print(f\"Person {i+1} is {names[i]}\")"
      ]
    },
    {
      "cell_type": "markdown",
      "metadata": {},
      "source": [
        "len(names) counts how many items are in the list\n",
        "\n",
        "This means our code works for lists of any length"
      ]
    }
  ],
  "metadata": {
    "kernelspec": {
      "display_name": "Python (Pyodide)",
      "language": "python",
      "name": "python"
    },
    "language_info": {
      "codemirror_mode": {
        "name": "python",
        "version": 3
      },
      "file_extension": ".py",
      "mimetype": "text/x-python",
      "name": "python",
      "nbconvert_exporter": "python",
      "pygments_lexer": "ipython3",
      "version": "3.8"
    }
  },
  "nbformat": 4,
  "nbformat_minor": 4
}
