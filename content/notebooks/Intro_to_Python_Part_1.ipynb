{
  "cells": [
    {
      "cell_type": "markdown",
      "metadata": {
        "id": "Cr5YdSOXLziJ"
      },
      "source": [
        "# Intro to Python - Part 1"
      ]
    },
    {
      "cell_type": "markdown",
      "metadata": {
        "id": "O7yhvFjQ0D6L"
      },
      "source": [
        "Python is a great programming language to learn. It is used extensively for web design and data analysis. This tutorial is aimed at complete beginners who may not have a lot of coding experience, but would be suitable for someone who knows other programming languages and wants a quick intro to Python syntax.\n",
        "\n",
        "Note: Python 3 is used throughout this intro tutorial.\n",
        "\n",
        "\n"
      ]
    },
    {
      "cell_type": "markdown",
      "metadata": {
        "id": "HcT6M56hL4RX"
      },
      "source": [
        "## Comments and Printing"
      ]
    },
    {
      "cell_type": "markdown",
      "metadata": {
        "id": "qjYX5FClCx-M"
      },
      "source": [
        "Adding a hashtag allows for comments to be added to Python code. Comments can be useful if you want to explain your code to someone else (or yourself in the future)."
      ]
    },
    {
      "cell_type": "code",
      "execution_count": null,
      "metadata": {
        "id": "vBBHVo8XC6WK"
      },
      "outputs": [],
      "source": [
        "# This is a comment."
      ]
    },
    {
      "cell_type": "markdown",
      "metadata": {
        "id": "p5AN3xOmC8u5"
      },
      "source": [
        "When we run the code with a comment, nothing happens. If we wanted something to be output, we would use *printing*:"
      ]
    },
    {
      "cell_type": "code",
      "execution_count": null,
      "metadata": {
        "id": "D_EX6cimCKBL",
        "outputId": "bffde8be-176c-40ab-904d-3cf6b0323809"
      },
      "outputs": [
        {
          "name": "stdout",
          "output_type": "stream",
          "text": [
            "Hello World\n",
            "123\n"
          ]
        }
      ],
      "source": [
        "# An example of printing in Python\n",
        "print(\"Hello World\")\n",
        "print(123)"
      ]
    },
    {
      "cell_type": "markdown",
      "metadata": {
        "id": "E1ARBgCGDKHm"
      },
      "source": [
        "When we run the code for printing, something is output below our code.\n",
        "\n",
        "You might have noticed the Hello World print statement had quotation marks, but the 123 did not. This is because words and numbers are different *data types* in Python."
      ]
    },
    {
      "cell_type": "markdown",
      "metadata": {
        "id": "CESwXY5HL8Vw"
      },
      "source": [
        "## Basic Data Types"
      ]
    },
    {
      "cell_type": "markdown",
      "metadata": {
        "id": "o1BmY2adDmGA"
      },
      "source": [
        "In Python, and programming in general, there are different data types. These allow the code to perform certain actions (eg adding numbers together, or merging words). Some basic (but very important) data types in Python are:\n",
        "* **String** - any text data, such as words or phrases.\n",
        "* **Numeric** - numbers, including integers and floats (numbers with decimal places)\n",
        "* **Boolean** - true or false (1 or 0)"
      ]
    },
    {
      "cell_type": "markdown",
      "metadata": {
        "id": "UGaUhWOMO5Jt"
      },
      "source": [
        "### Text"
      ]
    },
    {
      "cell_type": "code",
      "execution_count": null,
      "metadata": {
        "id": "uoECg6KoCqrF",
        "outputId": "46a5874d-4c2c-4b63-dd87-53825cab4a64"
      },
      "outputs": [
        {
          "name": "stdout",
          "output_type": "stream",
          "text": [
            "This is a string. Strings must be inside quotation marks.\n",
            "However, both single and double quotation marks work.\n"
          ]
        }
      ],
      "source": [
        "# In the above example \"Hello World\" was inside quotation marks\n",
        "\n",
        "print(\"This is a string. Strings must be inside quotation marks.\")\n",
        "print('However, both single and double quotation marks work (as long as the same is used for the start and the end).')"
      ]
    },
    {
      "cell_type": "markdown",
      "metadata": {
        "id": "vvIKoErulsQT"
      },
      "source": [
        "Strings can be combined using a plus sign."
      ]
    },
    {
      "cell_type": "code",
      "execution_count": null,
      "metadata": {
        "id": "aneeYcnKl5Dd",
        "outputId": "1fa19636-92af-4a80-cbcf-aacc3d33abb7"
      },
      "outputs": [
        {
          "name": "stdout",
          "output_type": "stream",
          "text": [
            "My name is Laura\n"
          ]
        }
      ],
      "source": [
        "print(\"My name is\" + \" Laura\")"
      ]
    },
    {
      "cell_type": "markdown",
      "metadata": {
        "id": "wnf-ps00MNLM"
      },
      "source": [
        "### Numeric"
      ]
    },
    {
      "cell_type": "code",
      "execution_count": null,
      "metadata": {
        "id": "4f7aK9FGbVNB",
        "outputId": "f4bc1292-0efc-46fe-a527-d47a4699d3eb"
      },
      "outputs": [
        {
          "name": "stdout",
          "output_type": "stream",
          "text": [
            "1234\n",
            "1.234\n"
          ]
        }
      ],
      "source": [
        "print(1234) # Integer (or whole number)\n",
        "print(1.234) # Float (or number with decimal place)"
      ]
    },
    {
      "cell_type": "markdown",
      "metadata": {
        "id": "EbdliGrn7EXw"
      },
      "source": [
        "With numeric data types, we can apply some mathematical operations. Notice Python will convert from integers to floats when needed."
      ]
    },
    {
      "cell_type": "code",
      "execution_count": null,
      "metadata": {
        "id": "IXM5xK6AscNL",
        "outputId": "308af022-a5a0-4dbe-fb2a-27898ff9c0c6"
      },
      "outputs": [
        {
          "name": "stdout",
          "output_type": "stream",
          "text": [
            "3\n",
            "-1\n",
            "30\n",
            "0.8641975308641976\n",
            "36\n"
          ]
        }
      ],
      "source": [
        "print(1+2) # Addtion\n",
        "print(3-4) # Subtraction\n",
        "print(5*6) # Multiplication\n",
        "print(7/8.1) # Division\n",
        "print(6**2) # Exponentiation (eg 6^2 or 6 squared)"
      ]
    },
    {
      "cell_type": "markdown",
      "metadata": {
        "id": "Q-4_cit9O9Dw"
      },
      "source": [
        "### Boolean"
      ]
    },
    {
      "cell_type": "markdown",
      "metadata": {
        "id": "9fSLpUeC7yz6"
      },
      "source": [
        "You may not have heard the term Boolean better, it simply means something which can have a True or False answer. Sometimes this can be represented as 1 and 0 respectively.\n",
        "\n",
        "As Boolean as a data type themselves, you do not use quotation marks as these are different from strings."
      ]
    },
    {
      "cell_type": "code",
      "execution_count": null,
      "metadata": {
        "id": "fnIlHUoLbVxG",
        "outputId": "be8908f8-be3d-4f99-b19e-3c6f529f143d"
      },
      "outputs": [
        {
          "name": "stdout",
          "output_type": "stream",
          "text": [
            "True\n",
            "False\n"
          ]
        }
      ],
      "source": [
        "print(True) # notice the True changes blue, it *must* have a capital T\n",
        "print(False)"
      ]
    },
    {
      "cell_type": "markdown",
      "metadata": {
        "id": "4z6U8I5COxVX"
      },
      "source": [
        "We can also use Boolean statements which will produce a True or False value. These can be written using comparison operators, such as less than."
      ]
    },
    {
      "cell_type": "code",
      "execution_count": null,
      "metadata": {
        "id": "E3VMj7P0PPrg",
        "outputId": "46a46a6c-744f-4603-f129-4a0864f98450"
      },
      "outputs": [
        {
          "name": "stdout",
          "output_type": "stream",
          "text": [
            "False\n",
            "False\n",
            "True\n",
            "True\n",
            "False\n",
            "True\n",
            "True\n"
          ]
        }
      ],
      "source": [
        "print( 4 == 7) # equal to (must be two equal signs)\n",
        "print(4 == \"4\") # note a string of the same number is not equal to the numeric\n",
        "print(9 != 0) # not equal to\n",
        "print(5 < 6) # less than\n",
        "print(8 <= 7) # less than or equal to\n",
        "print(10 > 2) # greater than\n",
        "print(8 >= 8) # greater than or equal to"
      ]
    },
    {
      "cell_type": "markdown",
      "metadata": {
        "id": "um-BBry_PQFQ"
      },
      "source": [
        "## Variables"
      ]
    },
    {
      "cell_type": "markdown",
      "metadata": {
        "id": "rwEBSoCRSXV1"
      },
      "source": [
        "So far we have been using *literals* (meaning the data takes the literal value we tell, eg 4 or True. We might also want to work with data that can change value, these are called *variables* (as the values vary)."
      ]
    },
    {
      "cell_type": "code",
      "execution_count": null,
      "metadata": {
        "id": "nmUeW-IG0BaD"
      },
      "outputs": [],
      "source": [
        "name = \"Jamie\"\n",
        "height = 1.5\n",
        "student = True"
      ]
    },
    {
      "cell_type": "markdown",
      "metadata": {
        "id": "WtwejbncerFY"
      },
      "source": [
        "To print a variable, do not use any quotation marks and pay attention to the case of the letters."
      ]
    },
    {
      "cell_type": "code",
      "execution_count": null,
      "metadata": {
        "id": "qFD55VvxS0PK",
        "outputId": "b218eb49-dd20-4faf-856f-5098c11ad287"
      },
      "outputs": [
        {
          "name": "stdout",
          "output_type": "stream",
          "text": [
            "Jamie\n"
          ]
        }
      ],
      "source": [
        "print(name)"
      ]
    },
    {
      "cell_type": "markdown",
      "metadata": {
        "id": "getLZXQDezz6"
      },
      "source": [
        "A variable cannot be called if it has not been declared (given a value)"
      ]
    },
    {
      "cell_type": "code",
      "execution_count": null,
      "metadata": {
        "id": "MpvsNlKpe8Qw",
        "outputId": "2e413142-d235-45e1-fc74-fbd6310f864e"
      },
      "outputs": [
        {
          "ename": "NameError",
          "evalue": "name 'test' is not defined",
          "output_type": "error",
          "traceback": [
            "\u001b[0;31m---------------------------------------------------------------------------\u001b[0m",
            "\u001b[0;31mNameError\u001b[0m                                 Traceback (most recent call last)",
            "\u001b[0;32m<ipython-input-14-4ddfce83ccd5>\u001b[0m in \u001b[0;36m<cell line: 1>\u001b[0;34m()\u001b[0m\n\u001b[0;32m----> 1\u001b[0;31m \u001b[0mprint\u001b[0m\u001b[0;34m(\u001b[0m\u001b[0mtest\u001b[0m\u001b[0;34m)\u001b[0m\u001b[0;34m\u001b[0m\u001b[0;34m\u001b[0m\u001b[0m\n\u001b[0m",
            "\u001b[0;31mNameError\u001b[0m: name 'test' is not defined"
          ]
        }
      ],
      "source": [
        "print(test)"
      ]
    },
    {
      "cell_type": "markdown",
      "metadata": {
        "id": "e0KX-xogfDkl"
      },
      "source": [
        "## More Printing"
      ]
    },
    {
      "cell_type": "markdown",
      "metadata": {
        "id": "kWd1GKNOfGIP"
      },
      "source": [
        "Sometimes combining a variable with text for print is useful."
      ]
    },
    {
      "cell_type": "code",
      "execution_count": null,
      "metadata": {
        "id": "4p0n0v_IfFio",
        "outputId": "db566e9f-8a1e-42c5-ed62-9ae06ef83211"
      },
      "outputs": [
        {
          "name": "stdout",
          "output_type": "stream",
          "text": [
            "Your total is £ 45\n"
          ]
        }
      ],
      "source": [
        "item = 9\n",
        "no_items = 5\n",
        "amount = item * no_items\n",
        "\n",
        "print(\"Your total is £\", amount)"
      ]
    },
    {
      "cell_type": "code",
      "execution_count": null,
      "metadata": {
        "id": "_VK9Mf3jQHjG"
      },
      "outputs": [],
      "source": [
        "item = 10"
      ]
    },
    {
      "cell_type": "code",
      "execution_count": null,
      "metadata": {
        "id": "jM-rMw3SQPB3"
      },
      "outputs": [],
      "source": [
        "amount = item * no_items"
      ]
    },
    {
      "cell_type": "code",
      "execution_count": null,
      "metadata": {
        "id": "A1MRqC2AfxsJ",
        "outputId": "d530b88f-bc1f-4d81-c46b-213e3549ea28"
      },
      "outputs": [
        {
          "name": "stdout",
          "output_type": "stream",
          "text": [
            "Your total is £ 50\n"
          ]
        }
      ],
      "source": [
        "currency = \"£\"\n",
        "\n",
        "print(\"Your total is %s %d\" % (currency,amount)) # where d = decimal and s = string"
      ]
    },
    {
      "cell_type": "markdown",
      "metadata": {
        "id": "31l1QG20kGIl"
      },
      "source": [
        "## Finding the Data Type"
      ]
    },
    {
      "cell_type": "markdown",
      "metadata": {
        "id": "6zXnotEBkRpP"
      },
      "source": [
        "To find the type of some data, literal or variable, Python has a pre-built function *type()*.\n"
      ]
    },
    {
      "cell_type": "code",
      "execution_count": null,
      "metadata": {
        "id": "-CeCGfdNjuIA",
        "outputId": "9be4a6f4-53e2-455a-be46-9bb31509cb51"
      },
      "outputs": [
        {
          "name": "stdout",
          "output_type": "stream",
          "text": [
            "<class 'int'>\n",
            "<class 'float'>\n",
            "<class 'str'>\n",
            "<class 'bool'>\n",
            "<class 'int'>\n"
          ]
        }
      ],
      "source": [
        "print(type(4))\n",
        "print(type(4.1))\n",
        "print(type(\"4\"))\n",
        "print(type(True))\n",
        "print(type(amount))"
      ]
    },
    {
      "cell_type": "markdown",
      "metadata": {
        "id": "oD5xqpZIkgQG"
      },
      "source": [
        "Notice the difference between 4 and 4.1 - int and float\n",
        "\n",
        "Also, the data type of the variable is not variable, it is the data type of the value."
      ]
    },
    {
      "cell_type": "markdown",
      "metadata": {
        "id": "KATYJJ6rji5-"
      },
      "source": [
        "## Casting to a Specific Data Type"
      ]
    },
    {
      "cell_type": "markdown",
      "metadata": {
        "id": "Pe1ua5hfjnBZ"
      },
      "source": [
        "Sometimes it is useful to change between data types, eg changes the number 4 to a string of the number 4.\n",
        "\n",
        "\n",
        "*   str() - to convert to string\n",
        "*   int() - to convert to an integer (or whole number, no decimal place)\n",
        "*   float() - to convert to a number with a decimal place\n",
        "*   bool() - to convert to a Boolean\n",
        "\n"
      ]
    },
    {
      "cell_type": "code",
      "execution_count": null,
      "metadata": {
        "id": "kCo4Kk8Zktan",
        "outputId": "008474f7-951c-4d22-b35a-d01fef9c9824"
      },
      "outputs": [
        {
          "name": "stdout",
          "output_type": "stream",
          "text": [
            "4\n",
            "<class 'int'>\n",
            "4\n",
            "<class 'str'>\n"
          ]
        }
      ],
      "source": [
        "four = 4\n",
        "print(four)\n",
        "print(type(four))\n",
        "print(str(4))\n",
        "print(type(str(four)))"
      ]
    },
    {
      "cell_type": "markdown",
      "metadata": {
        "id": "ZWWBjyIllANY"
      },
      "source": [
        "This can be very helpful for combining strings to print."
      ]
    },
    {
      "cell_type": "code",
      "execution_count": null,
      "metadata": {
        "id": "WnjxC7PDlFvx",
        "outputId": "a652b356-fdad-4205-a0df-0861da16977a"
      },
      "outputs": [
        {
          "name": "stdout",
          "output_type": "stream",
          "text": [
            "I have 4 cats.\n"
          ]
        }
      ],
      "source": [
        "print(\"I have \"+str(four)+\" cats.\")"
      ]
    },
    {
      "cell_type": "markdown",
      "metadata": {
        "id": "KcUd-I7EmASV"
      },
      "source": [
        "Not everything can be converted from one thing to another.\n",
        "\n",
        "*   All numeric data types (floats and ints) can be converted to string.\n",
        "*   All strings of just numberic characters and decimal places can be converted to floats (if it has a decimal place) or ints.\n",
        "*   The integers 0 and 1 can be cast as Booleans, and the Booleans True and False can be cast as ints.\n",
        "\n"
      ]
    },
    {
      "cell_type": "code",
      "execution_count": null,
      "metadata": {
        "id": "seitL3snmWxH",
        "outputId": "d51a3342-bdbd-49f2-ebf4-be2ad76fb10f"
      },
      "outputs": [
        {
          "name": "stdout",
          "output_type": "stream",
          "text": [
            "True\n",
            "False\n",
            "1\n",
            "0\n",
            "True\n",
            "False\n"
          ]
        }
      ],
      "source": [
        "print(bool(1))\n",
        "print(bool(0))\n",
        "print(int(True))\n",
        "print(int(False))\n",
        "print(str(True))\n",
        "print(str(False))"
      ]
    },
    {
      "cell_type": "markdown",
      "metadata": {
        "id": "HrbZvH1pm3NL"
      },
      "source": [
        "However, the strings \"true\" and \"false\" will not be cast correctly to Booleans. When a string is cast to a Boolean, if it is empty it will be False and if it is not empty it will be True."
      ]
    },
    {
      "cell_type": "code",
      "execution_count": null,
      "metadata": {
        "id": "8XRZB4Umm3Va",
        "outputId": "69d6a982-d96c-4357-94db-33264371da67"
      },
      "outputs": [
        {
          "name": "stdout",
          "output_type": "stream",
          "text": [
            "True\n",
            "True\n",
            "False\n"
          ]
        }
      ],
      "source": [
        "print(bool(\"true\"))\n",
        "print(bool(\"false\"))\n",
        "print(bool(\"\")) # An empty string is quotations marks with nothing in between"
      ]
    },
    {
      "cell_type": "markdown",
      "metadata": {
        "id": "GXklquARKqVD"
      },
      "source": [
        "## Input Statements"
      ]
    },
    {
      "cell_type": "markdown",
      "metadata": {
        "id": "LGOjTmGj3GS9"
      },
      "source": [
        "Sometimes you will need to ask the user to input some information (e.g. if you are building a game or a chatbot).\n",
        "\n",
        "Run the code below to input a name."
      ]
    },
    {
      "cell_type": "code",
      "execution_count": null,
      "metadata": {
        "id": "_sBzORuRnRpo",
        "outputId": "a180c2bd-1058-4304-b787-b36e7345f349"
      },
      "outputs": [
        {
          "name": "stdout",
          "output_type": "stream",
          "text": [
            "What is your name? Laura\n"
          ]
        },
        {
          "data": {},
          "execution_count": 20,
          "metadata": {},
          "output_type": "execute_result"
        }
      ],
      "source": [
        "input(\"What is your name? \")"
      ]
    },
    {
      "cell_type": "markdown",
      "metadata": {
        "id": "G65whAqGLNmm"
      },
      "source": [
        "The data input can be set to be a variable, so it can be used later in your code.\n",
        "\n",
        "Run the code below to input a name."
      ]
    },
    {
      "cell_type": "code",
      "execution_count": null,
      "metadata": {
        "id": "UCRge73xLYdW",
        "outputId": "18744ef6-4abe-4f50-fde6-93f4d07f917d"
      },
      "outputs": [
        {
          "name": "stdout",
          "output_type": "stream",
          "text": [
            "What is your name? Laura\n",
            "Hello, Laura\n"
          ]
        }
      ],
      "source": [
        "name = input(\"What is your name? \")\n",
        "print(\"Hello, \" + name)"
      ]
    },
    {
      "cell_type": "markdown",
      "metadata": {
        "id": "j6pP2nbp3Bw3"
      },
      "source": [
        "## Conditional Statements"
      ]
    },
    {
      "cell_type": "markdown",
      "metadata": {
        "id": "PpCl5LTustxG"
      },
      "source": [
        "These are similar to IF function in spreadsheets. Tells the code if something is true, do something."
      ]
    },
    {
      "cell_type": "markdown",
      "metadata": {
        "id": "a6wGghYCKpqI"
      },
      "source": [
        "\n",
        "\n",
        "```\n",
        "if blah1:\n",
        "  do something1\n",
        "elif blah2:\n",
        "  do something2\n",
        "else:\n",
        "  do something3\n",
        "```\n",
        "\n"
      ]
    },
    {
      "cell_type": "code",
      "execution_count": null,
      "metadata": {
        "id": "acRuUzBEKpzY",
        "outputId": "a0e7694e-d049-4be3-8f0d-5489f8e2071e"
      },
      "outputs": [
        {
          "name": "stdout",
          "output_type": "stream",
          "text": [
            "This is not true\n"
          ]
        }
      ],
      "source": [
        "x = 1\n",
        "\n",
        "if x > 7:\n",
        "  print(\"This is true\")\n",
        "else:\n",
        "  print(\"This is not true\")"
      ]
    },
    {
      "cell_type": "code",
      "execution_count": null,
      "metadata": {
        "id": "fVWCiwVgj1MH",
        "outputId": "32d3bb58-1d55-4d52-9978-82761f3f0217"
      },
      "outputs": [
        {
          "name": "stdout",
          "output_type": "stream",
          "text": [
            "x <= 3\n"
          ]
        }
      ],
      "source": [
        "if x > 7:\n",
        "  print(\"x > 7\")\n",
        "elif x > 3:\n",
        "  print(\"x > 3\")\n",
        "else:\n",
        "  print(\"x <= 3\")"
      ]
    },
    {
      "cell_type": "markdown",
      "metadata": {
        "id": "RlLl-NzeSx-s"
      },
      "source": [
        "Silly example:"
      ]
    },
    {
      "cell_type": "code",
      "execution_count": null,
      "metadata": {
        "id": "RO81PguW-bi1",
        "outputId": "8ec74520-6566-4d0b-d7ea-b280182282b6"
      },
      "outputs": [
        {
          "name": "stdout",
          "output_type": "stream",
          "text": [
            "Hello. Would you like to order a pizza? yes\n",
            "What type of pizza? Hot\n",
            "What size of pizza? Small\n",
            "You have ordered a Small Hot pizza\n"
          ]
        }
      ],
      "source": [
        "answer = input(\"Hello. Would you like to order a pizza? \")\n",
        "if answer == \"Yes\" or answer == \"yes\":\n",
        "  type_pizza = input(\"What type of pizza? \")\n",
        "  size = input(\"What size of pizza? \")\n",
        "  print(\"You have ordered a \" + size + \" \" + type_pizza + \" pizza\")"
      ]
    },
    {
      "cell_type": "markdown",
      "metadata": {
        "id": "W1ZhOeqc3HRI"
      },
      "source": [
        "## While / For Loops"
      ]
    },
    {
      "cell_type": "markdown",
      "metadata": {
        "id": "fDwU6pR_3Jcn"
      },
      "source": [
        "These allow code to run until a conditional is met or for a certain number of times"
      ]
    },
    {
      "cell_type": "code",
      "execution_count": null,
      "metadata": {
        "id": "IRfndX4i3JlP",
        "outputId": "0d919ae9-7f5c-41c7-ec4f-b11e11375051"
      },
      "outputs": [
        {
          "name": "stdout",
          "output_type": "stream",
          "text": [
            "0\n",
            "2\n",
            "4\n",
            "6\n",
            "8\n"
          ]
        }
      ],
      "source": [
        "x = 0\n",
        "\n",
        "while x < 10:\n",
        "  print(x)\n",
        "  x = x + 2\n",
        "\n",
        "# be careful without the last line this would run forever"
      ]
    },
    {
      "cell_type": "code",
      "execution_count": null,
      "metadata": {
        "id": "D7kwCH_Vtutt",
        "outputId": "fefe95b6-08f2-4953-ab62-105eb1287136"
      },
      "outputs": [
        {
          "name": "stdout",
          "output_type": "stream",
          "text": [
            "2\n",
            "4\n",
            "6\n",
            "8\n"
          ]
        }
      ],
      "source": [
        "for x in range(2,10,2): # note this stop before 10\n",
        "  print(x)"
      ]
    }
  ],
  "metadata": {
    "kernelspec": {
      "display_name": "Python 3",
      "name": "python3"
    }
  },
  "nbformat": 4,
  "nbformat_minor": 0
}
