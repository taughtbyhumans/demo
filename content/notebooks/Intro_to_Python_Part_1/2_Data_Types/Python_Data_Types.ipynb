{
  "cells": [
    {
      "cell_type": "markdown",
      "metadata": {
        "id": "CESwXY5HL8Vw"
      },
      "source": [
        "# Python - Basic Data Types"
      ]
    },
    {
      "cell_type": "markdown",
      "metadata": {
        "id": "o1BmY2adDmGA"
      },
      "source": [
        "In Python, and programming in general, there are different data types. These allow the code to perform certain actions (eg adding numbers together, or merging words). Some basic (but very important) data types in Python are:\n",
        "* **String** - any text data, such as words or phrases.\n",
        "* **Numeric** - numbers, including integers and floats (numbers with decimal places)\n",
        "* **Boolean** - true or false (1 or 0)"
      ]
    },
    {
      "cell_type": "markdown",
      "metadata": {
        "id": "UGaUhWOMO5Jt"
      },
      "source": [
        "## Text"
      ]
    },
    {
      "cell_type": "code",
      "execution_count": null,
      "metadata": {
        "id": "uoECg6KoCqrF",
        "outputId": "46a5874d-4c2c-4b63-dd87-53825cab4a64"
      },
      "outputs": [],
      "source": [
        "# In the above example \"Hello World\" was inside quotation marks\n",
        "\n",
        "print(\"This is a string. Strings must be inside quotation marks.\")\n",
        "print('However, both single and double quotation marks work (as long as the same is used for the start and the end).')"
      ]
    },
    {
      "cell_type": "markdown",
      "metadata": {
        "id": "vvIKoErulsQT"
      },
      "source": [
        "Strings can be combined using a plus sign."
      ]
    },
    {
      "cell_type": "code",
      "execution_count": null,
      "metadata": {
        "id": "aneeYcnKl5Dd",
        "outputId": "1fa19636-92af-4a80-cbcf-aacc3d33abb7"
      },
      "outputs": [],
      "source": [
        "print(\"My name is\" + \" Laura\")"
      ]
    },
    {
      "cell_type": "markdown",
      "metadata": {
        "id": "wnf-ps00MNLM"
      },
      "source": [
        "## Numeric"
      ]
    },
    {
      "cell_type": "code",
      "execution_count": null,
      "metadata": {
        "id": "4f7aK9FGbVNB",
        "outputId": "f4bc1292-0efc-46fe-a527-d47a4699d3eb"
      },
      "outputs": [],
      "source": [
        "print(1234) # Integer (or whole number)\n",
        "print(1.234) # Float (or number with decimal place)"
      ]
    },
    {
      "cell_type": "markdown",
      "metadata": {
        "id": "EbdliGrn7EXw"
      },
      "source": [
        "With numeric data types, we can apply some mathematical operations. Notice Python will convert from integers to floats when needed."
      ]
    },
    {
      "cell_type": "code",
      "execution_count": null,
      "metadata": {
        "id": "IXM5xK6AscNL",
        "outputId": "308af022-a5a0-4dbe-fb2a-27898ff9c0c6"
      },
      "outputs": [],
      "source": [
        "print(1+2) # Addtion\n",
        "print(3-4) # Subtraction\n",
        "print(5*6) # Multiplication\n",
        "print(7/8.1) # Division\n",
        "print(6**2) # Exponentiation (eg 6^2 or 6 squared)"
      ]
    },
    {
      "cell_type": "markdown",
      "metadata": {
        "id": "Q-4_cit9O9Dw"
      },
      "source": [
        "## Boolean"
      ]
    },
    {
      "cell_type": "markdown",
      "metadata": {
        "id": "9fSLpUeC7yz6"
      },
      "source": [
        "You may not have heard the term Boolean better, it simply means something which can have a True or False answer. Sometimes this can be represented as 1 and 0 respectively.\n",
        "\n",
        "As Boolean as a data type themselves, you do not use quotation marks as these are different from strings."
      ]
    },
    {
      "cell_type": "code",
      "execution_count": null,
      "metadata": {
        "id": "fnIlHUoLbVxG",
        "outputId": "be8908f8-be3d-4f99-b19e-3c6f529f143d"
      },
      "outputs": [],
      "source": [
        "print(True) # notice the True changes blue, it *must* have a capital T\n",
        "print(False)"
      ]
    },
    {
      "cell_type": "markdown",
      "metadata": {
        "id": "4z6U8I5COxVX"
      },
      "source": [
        "We can also use Boolean statements which will produce a True or False value. These can be written using comparison operators, such as less than."
      ]
    },
    {
      "cell_type": "code",
      "execution_count": null,
      "metadata": {
        "id": "E3VMj7P0PPrg",
        "outputId": "46a46a6c-744f-4603-f129-4a0864f98450"
      },
      "outputs": [],
      "source": [
        "print( 4 == 7) # equal to (must be two equal signs)\n",
        "print(4 == \"4\") # note a string of the same number is not equal to the numeric\n",
        "print(9 != 0) # not equal to\n",
        "print(5 < 6) # less than\n",
        "print(8 <= 7) # less than or equal to\n",
        "print(10 > 2) # greater than\n",
        "print(8 >= 8) # greater than or equal to"
      ]
    }
  ],
  "metadata": {
    "kernelspec": {
      "display_name": "Python (Pyodide)",
      "language": "python",
      "name": "python"
    },
    "language_info": {
      "codemirror_mode": {
        "name": "python",
        "version": 3
      },
      "file_extension": ".py",
      "mimetype": "text/x-python",
      "name": "python",
      "nbconvert_exporter": "python",
      "pygments_lexer": "ipython3",
      "version": "3.8"
    }
  },
  "nbformat": 4,
  "nbformat_minor": 4
}
