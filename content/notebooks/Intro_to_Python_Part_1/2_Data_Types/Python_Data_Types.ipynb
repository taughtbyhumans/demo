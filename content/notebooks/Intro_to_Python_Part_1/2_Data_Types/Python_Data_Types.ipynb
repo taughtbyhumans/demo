{
  "metadata": {
    "kernelspec": {
      "name": "python",
      "display_name": "Python (Pyodide)",
      "language": "python"
    },
    "language_info": {
      "codemirror_mode": {
        "name": "python",
        "version": 3
      },
      "file_extension": ".py",
      "mimetype": "text/x-python",
      "name": "python",
      "nbconvert_exporter": "python",
      "pygments_lexer": "ipython3",
      "version": "3.8"
    }
  },
  "nbformat_minor": 4,
  "nbformat": 4,
  "cells": [
    {
      "cell_type": "markdown",
      "source": "# Python - Basic Data Types",
      "metadata": {
        "id": "CESwXY5HL8Vw"
      }
    },
    {
      "cell_type": "markdown",
      "source": "In Python, and programming in general, there are different data types. These allow the code to perform certain actions (eg adding numbers together, or merging words). Some basic (but very important) data types in Python are:\n* **String** - any text data, such as words or phrases.\n* **Numeric** - numbers, including integers and floats (numbers with decimal places)\n* **Boolean** - true or false (1 or 0)",
      "metadata": {
        "id": "o1BmY2adDmGA"
      }
    },
    {
      "cell_type": "markdown",
      "source": "## Text",
      "metadata": {
        "id": "UGaUhWOMO5Jt"
      }
    },
    {
      "cell_type": "code",
      "source": "# In the above example \"Hello World\" was inside quotation marks\n\nprint(\"This is a string. Strings must be inside quotation marks.\")\nprint('However, both single and double quotation marks work (as long as the same is used for the start and the end).')",
      "metadata": {
        "id": "uoECg6KoCqrF",
        "outputId": "46a5874d-4c2c-4b63-dd87-53825cab4a64"
      },
      "outputs": [
        {
          "output_type": "stream",
          "text": [
            "This is a string. Strings must be inside quotation marks.\n",
            "However, both single and double quotation marks work.\n"
          ],
          "name": "stdout"
        }
      ],
      "execution_count": null
    },
    {
      "cell_type": "markdown",
      "source": "Strings can be combined using a plus sign.",
      "metadata": {
        "id": "vvIKoErulsQT"
      }
    },
    {
      "cell_type": "code",
      "source": "print(\"My name is\" + \" Laura\")",
      "metadata": {
        "id": "aneeYcnKl5Dd",
        "outputId": "1fa19636-92af-4a80-cbcf-aacc3d33abb7"
      },
      "outputs": [
        {
          "output_type": "stream",
          "name": "stdout",
          "text": [
            "My name is Laura\n"
          ]
        }
      ],
      "execution_count": null
    },
    {
      "cell_type": "markdown",
      "source": "## Numeric",
      "metadata": {
        "id": "wnf-ps00MNLM"
      }
    },
    {
      "cell_type": "code",
      "source": "print(1234) # Integer (or whole number)\nprint(1.234) # Float (or number with decimal place)",
      "metadata": {
        "id": "4f7aK9FGbVNB",
        "outputId": "f4bc1292-0efc-46fe-a527-d47a4699d3eb"
      },
      "outputs": [
        {
          "output_type": "stream",
          "text": [
            "1234\n",
            "1.234\n"
          ],
          "name": "stdout"
        }
      ],
      "execution_count": null
    },
    {
      "cell_type": "markdown",
      "source": "With numeric data types, we can apply some mathematical operations. Notice Python will convert from integers to floats when needed.",
      "metadata": {
        "id": "EbdliGrn7EXw"
      }
    },
    {
      "cell_type": "code",
      "source": "print(1+2) # Addtion\nprint(3-4) # Subtraction\nprint(5*6) # Multiplication\nprint(7/8.1) # Division\nprint(6**2) # Exponentiation (eg 6^2 or 6 squared)",
      "metadata": {
        "id": "IXM5xK6AscNL",
        "outputId": "308af022-a5a0-4dbe-fb2a-27898ff9c0c6"
      },
      "outputs": [
        {
          "output_type": "stream",
          "text": [
            "3\n",
            "-1\n",
            "30\n",
            "0.8641975308641976\n",
            "36\n"
          ],
          "name": "stdout"
        }
      ],
      "execution_count": null
    },
    {
      "cell_type": "markdown",
      "source": "## Boolean",
      "metadata": {
        "id": "Q-4_cit9O9Dw"
      }
    },
    {
      "cell_type": "markdown",
      "source": "You may not have heard the term Boolean better, it simply means something which can have a True or False answer. Sometimes this can be represented as 1 and 0 respectively.\n\nAs Boolean as a data type themselves, you do not use quotation marks as these are different from strings.",
      "metadata": {
        "id": "9fSLpUeC7yz6"
      }
    },
    {
      "cell_type": "code",
      "source": "print(True) # notice the True changes blue, it *must* have a capital T\nprint(False)",
      "metadata": {
        "id": "fnIlHUoLbVxG",
        "outputId": "be8908f8-be3d-4f99-b19e-3c6f529f143d"
      },
      "outputs": [
        {
          "output_type": "stream",
          "name": "stdout",
          "text": [
            "True\n",
            "False\n"
          ]
        }
      ],
      "execution_count": null
    },
    {
      "cell_type": "markdown",
      "source": "We can also use Boolean statements which will produce a True or False value. These can be written using comparison operators, such as less than.",
      "metadata": {
        "id": "4z6U8I5COxVX"
      }
    },
    {
      "cell_type": "code",
      "source": "print( 4 == 7) # equal to (must be two equal signs)\nprint(4 == \"4\") # note a string of the same number is not equal to the numeric\nprint(9 != 0) # not equal to\nprint(5 < 6) # less than\nprint(8 <= 7) # less than or equal to\nprint(10 > 2) # greater than\nprint(8 >= 8) # greater than or equal to",
      "metadata": {
        "id": "E3VMj7P0PPrg",
        "outputId": "46a46a6c-744f-4603-f129-4a0864f98450"
      },
      "outputs": [
        {
          "output_type": "stream",
          "text": [
            "False\n",
            "False\n",
            "True\n",
            "True\n",
            "False\n",
            "True\n",
            "True\n"
          ],
          "name": "stdout"
        }
      ],
      "execution_count": null
    }
  ]
}