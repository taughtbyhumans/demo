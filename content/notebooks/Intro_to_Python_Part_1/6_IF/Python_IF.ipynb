{
  "metadata": {
    "kernelspec": {
      "name": "python",
      "display_name": "Python (Pyodide)",
      "language": "python"
    },
    "language_info": {
      "codemirror_mode": {
        "name": "python",
        "version": 3
      },
      "file_extension": ".py",
      "mimetype": "text/x-python",
      "name": "python",
      "nbconvert_exporter": "python",
      "pygments_lexer": "ipython3",
      "version": "3.8"
    }
  },
  "nbformat_minor": 4,
  "nbformat": 4,
  "cells": [
    {
      "cell_type": "markdown",
      "source": "# Python - IF Statements",
      "metadata": {
        "id": "j6pP2nbp3Bw3"
      }
    },
    {
      "cell_type": "markdown",
      "source": "These are similar to IF function in spreadsheets. Tells the code if something is true, do something.",
      "metadata": {
        "id": "PpCl5LTustxG"
      }
    },
    {
      "cell_type": "markdown",
      "source": "\n\n```\nif blah1:\n  do something1\nelif blah2:\n  do something2\nelse:\n  do something3\n```\n\n",
      "metadata": {
        "id": "a6wGghYCKpqI"
      }
    },
    {
      "cell_type": "markdown",
      "source": "## IF ELSE",
      "metadata": {}
    },
    {
      "cell_type": "code",
      "source": "x = 1\n\nif x > 7:\n  print(\"This is true\")\nelse:\n  print(\"This is not true\")",
      "metadata": {
        "id": "acRuUzBEKpzY",
        "outputId": "a0e7694e-d049-4be3-8f0d-5489f8e2071e",
        "trusted": true
      },
      "outputs": [
        {
          "name": "stdout",
          "text": "This is not true\n",
          "output_type": "stream"
        }
      ],
      "execution_count": 1
    },
    {
      "cell_type": "markdown",
      "source": "## ELIF",
      "metadata": {}
    },
    {
      "cell_type": "code",
      "source": "if x > 7:\n  print(\"x > 7\")\nelif x > 3:\n  print(\"x > 3\")\nelse:\n  print(\"x <= 3\")",
      "metadata": {
        "id": "fVWCiwVgj1MH",
        "outputId": "32d3bb58-1d55-4d52-9978-82761f3f0217",
        "trusted": true
      },
      "outputs": [
        {
          "name": "stdout",
          "text": "x <= 3\n",
          "output_type": "stream"
        }
      ],
      "execution_count": 2
    },
    {
      "cell_type": "markdown",
      "source": "## Multiple ELIFs",
      "metadata": {}
    },
    {
      "cell_type": "code",
      "source": "weather = \"Rainy\"\n\nif weather == \"Sunny\":\n    print(\"Wear sunglasses and sunscreen!\")\nelif weather == \"Rainy\":\n    print(\"Take an umbrella.\")\nelif weather == \"Snowy\":\n    print(\"Wear a warm coat and boots.\")\nelse:\n    print(\"I don't know that weather—dress comfortably!\")",
      "metadata": {
        "trusted": true
      },
      "outputs": [
        {
          "name": "stdout",
          "text": "Take an umbrella.\n",
          "output_type": "stream"
        }
      ],
      "execution_count": 8
    },
    {
      "cell_type": "markdown",
      "source": "These allow code to run until a conditional is met or for a certain number of times",
      "metadata": {
        "id": "fDwU6pR_3Jcn"
      }
    },
    {
      "cell_type": "code",
      "source": "x = 0\n\nwhile x < 10:\n  print(x)\n  x = x + 2\n\n# be careful without the last line this would run forever",
      "metadata": {
        "id": "IRfndX4i3JlP",
        "outputId": "0d919ae9-7f5c-41c7-ec4f-b11e11375051",
        "trusted": true
      },
      "outputs": [],
      "execution_count": null
    },
    {
      "cell_type": "code",
      "source": "for x in range(2,10,2): # note this stop before 10\n  print(x)",
      "metadata": {
        "id": "D7kwCH_Vtutt",
        "outputId": "fefe95b6-08f2-4953-ab62-105eb1287136",
        "trusted": true
      },
      "outputs": [],
      "execution_count": null
    }
  ]
}