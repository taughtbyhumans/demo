{
  "cells": [
    {
      "cell_type": "markdown",
      "metadata": {
        "id": "j6pP2nbp3Bw3"
      },
      "source": [
        "# Python - IF Statements"
      ]
    },
    {
      "cell_type": "markdown",
      "metadata": {
        "id": "PpCl5LTustxG"
      },
      "source": [
        "These are similar to IF function in spreadsheets. Tells the code if something is true, do something."
      ]
    },
    {
      "cell_type": "markdown",
      "metadata": {
        "id": "a6wGghYCKpqI"
      },
      "source": [
        "\n",
        "\n",
        "```\n",
        "if blah1:\n",
        "  do something1\n",
        "elif blah2:\n",
        "  do something2\n",
        "else:\n",
        "  do something3\n",
        "```\n",
        "\n"
      ]
    },
    {
      "cell_type": "markdown",
      "metadata": {},
      "source": [
        "## IF ELSE"
      ]
    },
    {
      "cell_type": "code",
      "execution_count": 1,
      "metadata": {
        "id": "acRuUzBEKpzY",
        "outputId": "a0e7694e-d049-4be3-8f0d-5489f8e2071e",
        "trusted": true
      },
      "outputs": [
        {
          "name": "stdout",
          "output_type": "stream",
          "text": [
            "This is not true\n"
          ]
        }
      ],
      "source": [
        "x = 1\n",
        "\n",
        "if x > 7:\n",
        "  print(\"This is true\")\n",
        "else:\n",
        "  print(\"This is not true\")"
      ]
    },
    {
      "cell_type": "markdown",
      "metadata": {},
      "source": [
        "## ELIF"
      ]
    },
    {
      "cell_type": "code",
      "execution_count": 2,
      "metadata": {
        "id": "fVWCiwVgj1MH",
        "outputId": "32d3bb58-1d55-4d52-9978-82761f3f0217",
        "trusted": true
      },
      "outputs": [
        {
          "name": "stdout",
          "output_type": "stream",
          "text": [
            "x <= 3\n"
          ]
        }
      ],
      "source": [
        "if x > 7:\n",
        "  print(\"x > 7\")\n",
        "elif x > 3:\n",
        "  print(\"x > 3\")\n",
        "else:\n",
        "  print(\"x <= 3\")"
      ]
    },
    {
      "cell_type": "markdown",
      "metadata": {},
      "source": [
        "## Multiple ELIFs"
      ]
    },
    {
      "cell_type": "code",
      "execution_count": 8,
      "metadata": {
        "trusted": true
      },
      "outputs": [
        {
          "name": "stdout",
          "output_type": "stream",
          "text": [
            "Take an umbrella.\n"
          ]
        }
      ],
      "source": [
        "weather = \"Rainy\"\n",
        "\n",
        "if weather == \"Sunny\":\n",
        "    print(\"Wear sunglasses and sunscreen!\")\n",
        "elif weather == \"Rainy\":\n",
        "    print(\"Take an umbrella.\")\n",
        "elif weather == \"Snowy\":\n",
        "    print(\"Wear a warm coat and boots.\")\n",
        "else:\n",
        "    print(\"I don't know that weather—dress comfortably!\")"
      ]
    }
  ],
  "metadata": {
    "kernelspec": {
      "display_name": "Python (Pyodide)",
      "language": "python",
      "name": "python"
    },
    "language_info": {
      "codemirror_mode": {
        "name": "python",
        "version": 3
      },
      "file_extension": ".py",
      "mimetype": "text/x-python",
      "name": "python",
      "nbconvert_exporter": "python",
      "pygments_lexer": "ipython3",
      "version": "3.8"
    }
  },
  "nbformat": 4,
  "nbformat_minor": 4
}
