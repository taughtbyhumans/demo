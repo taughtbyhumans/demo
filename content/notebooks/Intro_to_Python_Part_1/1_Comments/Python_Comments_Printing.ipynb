{
  "cells": [
    {
      "cell_type": "markdown",
      "metadata": {
        "id": "Cr5YdSOXLziJ"
      },
      "source": [
        "# Python - Comments and Printing"
      ]
    },
    {
      "cell_type": "markdown",
      "metadata": {
        "id": "qjYX5FClCx-M"
      },
      "source": [
        "Adding a hashtag allows for comments to be added to Python code. Comments can be useful if you want to explain your code to someone else (or yourself in the future)."
      ]
    },
    {
      "cell_type": "code",
      "execution_count": null,
      "metadata": {
        "id": "vBBHVo8XC6WK"
      },
      "outputs": [],
      "source": [
        "# This is a comment."
      ]
    },
    {
      "cell_type": "markdown",
      "metadata": {
        "id": "p5AN3xOmC8u5"
      },
      "source": [
        "When we run the code with a comment, nothing happens. If we wanted something to be output, we would use *printing*:"
      ]
    },
    {
      "cell_type": "code",
      "execution_count": null,
      "metadata": {
        "colab": {
          "base_uri": "https://localhost:8080/"
        },
        "id": "D_EX6cimCKBL",
        "outputId": "bffde8be-176c-40ab-904d-3cf6b0323809"
      },
      "outputs": [],
      "source": [
        "# An example of printing in Python\n",
        "print(\"Hello World\")\n",
        "print(123)"
      ]
    },
    {
      "cell_type": "markdown",
      "metadata": {
        "id": "E1ARBgCGDKHm"
      },
      "source": [
        "When we run the code for printing, something is output below our code.\n",
        "\n",
        "You might have noticed the Hello World print statement had quotation marks, but the 123 did not. This is because words and numbers are different *data types* in Python."
      ]
    }
  ],
  "metadata": {
    "colab": {
      "provenance": []
    },
    "kernelspec": {
      "display_name": "Python (Pyodide)",
      "language": "python",
      "name": "python"
    },
    "language_info": {
      "codemirror_mode": {
        "name": "python",
        "version": 3
      },
      "file_extension": ".py",
      "mimetype": "text/x-python",
      "name": "python",
      "nbconvert_exporter": "python",
      "pygments_lexer": "ipython3",
      "version": "3.8"
    }
  },
  "nbformat": 4,
  "nbformat_minor": 4
}
