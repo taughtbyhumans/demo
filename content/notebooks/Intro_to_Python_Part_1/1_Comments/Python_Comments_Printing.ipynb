{
  "metadata": {
    "kernelspec": {
      "name": "python",
      "display_name": "Python (Pyodide)",
      "language": "python"
    },
    "language_info": {
      "codemirror_mode": {
        "name": "python",
        "version": 3
      },
      "file_extension": ".py",
      "mimetype": "text/x-python",
      "name": "python",
      "nbconvert_exporter": "python",
      "pygments_lexer": "ipython3",
      "version": "3.8"
    },
    "colab": {
      "provenance": []
    }
  },
  "nbformat_minor": 4,
  "nbformat": 4,
  "cells": [
    {
      "cell_type": "markdown",
      "source": "# Python - Comments and Printing",
      "metadata": {
        "id": "Cr5YdSOXLziJ"
      }
    },
    {
      "cell_type": "markdown",
      "source": "Adding a hashtag allows for comments to be added to Python code. Comments can be useful if you want to explain your code to someone else (or yourself in the future).",
      "metadata": {
        "id": "qjYX5FClCx-M"
      }
    },
    {
      "cell_type": "code",
      "source": "# This is a comment.",
      "metadata": {
        "id": "vBBHVo8XC6WK"
      },
      "outputs": [],
      "execution_count": null
    },
    {
      "cell_type": "markdown",
      "source": "When we run the code with a comment, nothing happens. If we wanted something to be output, we would use *printing*:",
      "metadata": {
        "id": "p5AN3xOmC8u5"
      }
    },
    {
      "cell_type": "code",
      "source": "# An example of printing in Python\nprint(\"Hello World\")\nprint(123)",
      "metadata": {
        "colab": {
          "base_uri": "https://localhost:8080/"
        },
        "id": "D_EX6cimCKBL",
        "outputId": "bffde8be-176c-40ab-904d-3cf6b0323809"
      },
      "outputs": [
        {
          "output_type": "stream",
          "name": "stdout",
          "text": [
            "Hello World\n",
            "123\n"
          ]
        }
      ],
      "execution_count": null
    },
    {
      "cell_type": "markdown",
      "source": "When we run the code for printing, something is output below our code.\n\nYou might have noticed the Hello World print statement had quotation marks, but the 123 did not. This is because words and numbers are different *data types* in Python.",
      "metadata": {
        "id": "E1ARBgCGDKHm"
      }
    },
    {
      "cell_type": "markdown",
      "source": "In Python, and programming in general, there are different data types. These allow the code to perform certain actions (eg adding numbers together, or merging words). Some basic (but very important) data types in Python are:\n* **String** - any text data, such as words or phrases.\n* **Numeric** - numbers, including integers and floats (numbers with decimal places)\n* **Boolean** - true or false (1 or 0)",
      "metadata": {
        "id": "o1BmY2adDmGA"
      }
    },
    {
      "cell_type": "markdown",
      "source": "### Text",
      "metadata": {
        "id": "UGaUhWOMO5Jt"
      }
    },
    {
      "cell_type": "code",
      "source": "",
      "metadata": {
        "trusted": true
      },
      "outputs": [],
      "execution_count": null
    },
    {
      "cell_type": "code",
      "source": "# In the above example \"Hello World\" was inside quotation marks\n\nprint(\"This is a string. Strings must be inside quotation marks.\")\nprint('However, both single and double quotation marks work (as long as the same is used for the start and the end).')",
      "metadata": {
        "id": "uoECg6KoCqrF",
        "colab": {
          "base_uri": "https://localhost:8080/"
        },
        "outputId": "46a5874d-4c2c-4b63-dd87-53825cab4a64"
      },
      "outputs": [
        {
          "output_type": "stream",
          "text": [
            "This is a string. Strings must be inside quotation marks.\n",
            "However, both single and double quotation marks work.\n"
          ],
          "name": "stdout"
        }
      ],
      "execution_count": null
    },
    {
      "cell_type": "markdown",
      "source": "Strings can be combined using a plus sign.",
      "metadata": {
        "id": "vvIKoErulsQT"
      }
    },
    {
      "cell_type": "code",
      "source": "print(\"My name is\" + \" Laura\")",
      "metadata": {
        "colab": {
          "base_uri": "https://localhost:8080/"
        },
        "id": "aneeYcnKl5Dd",
        "outputId": "1fa19636-92af-4a80-cbcf-aacc3d33abb7"
      },
      "outputs": [
        {
          "output_type": "stream",
          "name": "stdout",
          "text": [
            "My name is Laura\n"
          ]
        }
      ],
      "execution_count": null
    },
    {
      "cell_type": "markdown",
      "source": "### Numeric",
      "metadata": {
        "id": "wnf-ps00MNLM"
      }
    },
    {
      "cell_type": "code",
      "source": "",
      "metadata": {
        "trusted": true
      },
      "outputs": [],
      "execution_count": null
    },
    {
      "cell_type": "code",
      "source": "",
      "metadata": {
        "trusted": true
      },
      "outputs": [],
      "execution_count": null
    },
    {
      "cell_type": "code",
      "source": "",
      "metadata": {
        "trusted": true
      },
      "outputs": [],
      "execution_count": null
    },
    {
      "cell_type": "code",
      "source": "",
      "metadata": {
        "trusted": true
      },
      "outputs": [],
      "execution_count": null
    },
    {
      "cell_type": "code",
      "source": "print(1234) # Integer (or whole number)\nprint(1.234) # Float (or number with decimal place)",
      "metadata": {
        "colab": {
          "base_uri": "https://localhost:8080/"
        },
        "id": "4f7aK9FGbVNB",
        "outputId": "f4bc1292-0efc-46fe-a527-d47a4699d3eb"
      },
      "outputs": [
        {
          "output_type": "stream",
          "text": [
            "1234\n",
            "1.234\n"
          ],
          "name": "stdout"
        }
      ],
      "execution_count": null
    },
    {
      "cell_type": "markdown",
      "source": "With numeric data types, we can apply some mathematical operations. Notice Python will convert from integers to floats when needed.",
      "metadata": {
        "id": "EbdliGrn7EXw"
      }
    },
    {
      "cell_type": "code",
      "source": "print(1+2) # Addtion\nprint(3-4) # Subtraction\nprint(5*6) # Multiplication\nprint(7/8.1) # Division\nprint(6**2) # Exponentiation (eg 6^2 or 6 squared)",
      "metadata": {
        "colab": {
          "base_uri": "https://localhost:8080/"
        },
        "id": "IXM5xK6AscNL",
        "outputId": "308af022-a5a0-4dbe-fb2a-27898ff9c0c6"
      },
      "outputs": [
        {
          "output_type": "stream",
          "text": [
            "3\n",
            "-1\n",
            "30\n",
            "0.8641975308641976\n",
            "36\n"
          ],
          "name": "stdout"
        }
      ],
      "execution_count": null
    },
    {
      "cell_type": "markdown",
      "source": "### Boolean",
      "metadata": {
        "id": "Q-4_cit9O9Dw"
      }
    },
    {
      "cell_type": "markdown",
      "source": "You may not have heard the term Boolean better, it simply means something which can have a True or False answer. Sometimes this can be represented as 1 and 0 respectively.\n\nAs Boolean as a data type themselves, you do not use quotation marks as these are different from strings.",
      "metadata": {
        "id": "9fSLpUeC7yz6"
      }
    },
    {
      "cell_type": "code",
      "source": "print(True) # notice the True changes blue, it *must* have a capital T\nprint(False)",
      "metadata": {
        "colab": {
          "base_uri": "https://localhost:8080/"
        },
        "id": "fnIlHUoLbVxG",
        "outputId": "be8908f8-be3d-4f99-b19e-3c6f529f143d"
      },
      "outputs": [
        {
          "output_type": "stream",
          "name": "stdout",
          "text": [
            "True\n",
            "False\n"
          ]
        }
      ],
      "execution_count": null
    },
    {
      "cell_type": "markdown",
      "source": "We can also use Boolean statements which will produce a True or False value. These can be written using comparison operators, such as less than.",
      "metadata": {
        "id": "4z6U8I5COxVX"
      }
    },
    {
      "cell_type": "code",
      "source": "print( 4 == 7) # equal to (must be two equal signs)\nprint(4 == \"4\") # note a string of the same number is not equal to the numeric\nprint(9 != 0) # not equal to\nprint(5 < 6) # less than\nprint(8 <= 7) # less than or equal to\nprint(10 > 2) # greater than\nprint(8 >= 8) # greater than or equal to",
      "metadata": {
        "id": "E3VMj7P0PPrg",
        "colab": {
          "base_uri": "https://localhost:8080/"
        },
        "outputId": "46a46a6c-744f-4603-f129-4a0864f98450"
      },
      "outputs": [
        {
          "output_type": "stream",
          "text": [
            "False\n",
            "False\n",
            "True\n",
            "True\n",
            "False\n",
            "True\n",
            "True\n"
          ],
          "name": "stdout"
        }
      ],
      "execution_count": null
    },
    {
      "cell_type": "markdown",
      "source": "So far we have been using *literals* (meaning the data takes the literal value we tell, eg 4 or True. We might also want to work with data that can change value, these are called *variables* (as the values vary).",
      "metadata": {
        "id": "rwEBSoCRSXV1"
      }
    },
    {
      "cell_type": "code",
      "source": "name = \"Jamie\"\nheight = 1.5\nstudent = True",
      "metadata": {
        "id": "nmUeW-IG0BaD"
      },
      "outputs": [],
      "execution_count": null
    },
    {
      "cell_type": "markdown",
      "source": "To print a variable, do not use any quotation marks and pay attention to the case of the letters.",
      "metadata": {
        "id": "WtwejbncerFY"
      }
    },
    {
      "cell_type": "code",
      "source": "print(name)",
      "metadata": {
        "colab": {
          "base_uri": "https://localhost:8080/"
        },
        "id": "qFD55VvxS0PK",
        "outputId": "b218eb49-dd20-4faf-856f-5098c11ad287"
      },
      "outputs": [
        {
          "output_type": "stream",
          "name": "stdout",
          "text": [
            "Jamie\n"
          ]
        }
      ],
      "execution_count": null
    },
    {
      "cell_type": "markdown",
      "source": "A variable cannot be called if it has not been declared (given a value)",
      "metadata": {
        "id": "getLZXQDezz6"
      }
    },
    {
      "cell_type": "code",
      "source": "print(test)",
      "metadata": {
        "colab": {
          "base_uri": "https://localhost:8080/",
          "height": 141
        },
        "id": "MpvsNlKpe8Qw",
        "outputId": "2e413142-d235-45e1-fc74-fbd6310f864e"
      },
      "outputs": [
        {
          "output_type": "error",
          "ename": "NameError",
          "evalue": "name 'test' is not defined",
          "traceback": [
            "\u001b[0;31m---------------------------------------------------------------------------\u001b[0m",
            "\u001b[0;31mNameError\u001b[0m                                 Traceback (most recent call last)",
            "\u001b[0;32m<ipython-input-14-4ddfce83ccd5>\u001b[0m in \u001b[0;36m<cell line: 1>\u001b[0;34m()\u001b[0m\n\u001b[0;32m----> 1\u001b[0;31m \u001b[0mprint\u001b[0m\u001b[0;34m(\u001b[0m\u001b[0mtest\u001b[0m\u001b[0;34m)\u001b[0m\u001b[0;34m\u001b[0m\u001b[0;34m\u001b[0m\u001b[0m\n\u001b[0m",
            "\u001b[0;31mNameError\u001b[0m: name 'test' is not defined"
          ]
        }
      ],
      "execution_count": null
    },
    {
      "cell_type": "markdown",
      "source": "Sometimes combining a variable with text for print is useful.",
      "metadata": {
        "id": "kWd1GKNOfGIP"
      }
    },
    {
      "cell_type": "code",
      "source": "item = 9\nno_items = 5\namount = item * no_items\n\nprint(\"Your total is £\", amount)",
      "metadata": {
        "colab": {
          "base_uri": "https://localhost:8080/"
        },
        "id": "4p0n0v_IfFio",
        "outputId": "db566e9f-8a1e-42c5-ed62-9ae06ef83211"
      },
      "outputs": [
        {
          "output_type": "stream",
          "name": "stdout",
          "text": [
            "Your total is £ 45\n"
          ]
        }
      ],
      "execution_count": null
    },
    {
      "cell_type": "code",
      "source": "item = 10",
      "metadata": {
        "id": "_VK9Mf3jQHjG"
      },
      "outputs": [],
      "execution_count": null
    },
    {
      "cell_type": "code",
      "source": "amount = item * no_items",
      "metadata": {
        "id": "jM-rMw3SQPB3"
      },
      "outputs": [],
      "execution_count": null
    },
    {
      "cell_type": "code",
      "source": "currency = \"£\"\n\nprint(\"Your total is %s %d\" % (currency,amount)) # where d = decimal and s = string",
      "metadata": {
        "colab": {
          "base_uri": "https://localhost:8080/"
        },
        "id": "A1MRqC2AfxsJ",
        "outputId": "d530b88f-bc1f-4d81-c46b-213e3549ea28"
      },
      "outputs": [
        {
          "output_type": "stream",
          "name": "stdout",
          "text": [
            "Your total is £ 50\n"
          ]
        }
      ],
      "execution_count": null
    },
    {
      "cell_type": "markdown",
      "source": "To find the type of some data, literal or variable, Python has a pre-built function *type()*.\n\nNote: more on functions in [part 2](https://colab.research.google.com/drive/1vW2YBz7AtiONvuZUFyqqAwimF1k7x8tP?usp=sharing)",
      "metadata": {
        "id": "6zXnotEBkRpP"
      }
    },
    {
      "cell_type": "code",
      "source": "print(type(4))\nprint(type(4.1))\nprint(type(\"4\"))\nprint(type(True))\nprint(type(amount))",
      "metadata": {
        "colab": {
          "base_uri": "https://localhost:8080/"
        },
        "id": "-CeCGfdNjuIA",
        "outputId": "9be4a6f4-53e2-455a-be46-9bb31509cb51"
      },
      "outputs": [
        {
          "output_type": "stream",
          "text": [
            "<class 'int'>\n",
            "<class 'float'>\n",
            "<class 'str'>\n",
            "<class 'bool'>\n",
            "<class 'int'>\n"
          ],
          "name": "stdout"
        }
      ],
      "execution_count": null
    },
    {
      "cell_type": "markdown",
      "source": "Notice the difference between 4 and 4.1 - int and float\n\nAlso, the data type of the variable is not variable, it is the data type of the value.",
      "metadata": {
        "id": "oD5xqpZIkgQG"
      }
    },
    {
      "cell_type": "markdown",
      "source": "Sometimes it is useful to change between data types, eg changes the number 4 to a string of the number 4.\n\n\n*   str() - to convert to string\n*   int() - to convert to an integer (or whole number, no decimal place)\n*   float() - to convert to a number with a decimal place\n*   bool() - to convert to a Boolean\n\n",
      "metadata": {
        "id": "Pe1ua5hfjnBZ"
      }
    },
    {
      "cell_type": "code",
      "source": "four = 4\nprint(four)\nprint(type(four))\nprint(str(4))\nprint(type(str(four)))",
      "metadata": {
        "colab": {
          "base_uri": "https://localhost:8080/"
        },
        "id": "kCo4Kk8Zktan",
        "outputId": "008474f7-951c-4d22-b35a-d01fef9c9824"
      },
      "outputs": [
        {
          "output_type": "stream",
          "text": [
            "4\n",
            "<class 'int'>\n",
            "4\n",
            "<class 'str'>\n"
          ],
          "name": "stdout"
        }
      ],
      "execution_count": null
    },
    {
      "cell_type": "markdown",
      "source": "This can be very helpful for combining strings to print.",
      "metadata": {
        "id": "ZWWBjyIllANY"
      }
    },
    {
      "cell_type": "code",
      "source": "print(\"I have \"+str(four)+\" cats.\")",
      "metadata": {
        "colab": {
          "base_uri": "https://localhost:8080/"
        },
        "id": "WnjxC7PDlFvx",
        "outputId": "a652b356-fdad-4205-a0df-0861da16977a"
      },
      "outputs": [
        {
          "output_type": "stream",
          "text": [
            "I have 4 cats.\n"
          ],
          "name": "stdout"
        }
      ],
      "execution_count": null
    },
    {
      "cell_type": "markdown",
      "source": "Not everything can be converted from one thing to another.\n\n*   All numeric data types (floats and ints) can be converted to string.\n*   All strings of just numberic characters and decimal places can be converted to floats (if it has a decimal place) or ints.\n*   The integers 0 and 1 can be cast as Booleans, and the Booleans True and False can be cast as ints.\n\n",
      "metadata": {
        "id": "KcUd-I7EmASV"
      }
    },
    {
      "cell_type": "code",
      "source": "print(bool(1))\nprint(bool(0))\nprint(int(True))\nprint(int(False))\nprint(str(True))\nprint(str(False))",
      "metadata": {
        "colab": {
          "base_uri": "https://localhost:8080/"
        },
        "id": "seitL3snmWxH",
        "outputId": "d51a3342-bdbd-49f2-ebf4-be2ad76fb10f"
      },
      "outputs": [
        {
          "output_type": "stream",
          "name": "stdout",
          "text": [
            "True\n",
            "False\n",
            "1\n",
            "0\n",
            "True\n",
            "False\n"
          ]
        }
      ],
      "execution_count": null
    },
    {
      "cell_type": "markdown",
      "source": "However, the strings \"true\" and \"false\" will not be cast correctly to Booleans. When a string is cast to a Boolean, if it is empty it will be False and if it is not empty it will be True.",
      "metadata": {
        "id": "HrbZvH1pm3NL"
      }
    },
    {
      "cell_type": "code",
      "source": "print(bool(\"true\"))\nprint(bool(\"false\"))\nprint(bool(\"\")) # An empty string is quotations marks with nothing in between",
      "metadata": {
        "colab": {
          "base_uri": "https://localhost:8080/"
        },
        "id": "8XRZB4Umm3Va",
        "outputId": "69d6a982-d96c-4357-94db-33264371da67"
      },
      "outputs": [
        {
          "output_type": "stream",
          "name": "stdout",
          "text": [
            "True\n",
            "True\n",
            "False\n"
          ]
        }
      ],
      "execution_count": null
    },
    {
      "cell_type": "markdown",
      "source": "Sometimes you will need to ask the user to input some information (e.g. if you are building a game or a chatbot).\n\nRun the code below to input a name.",
      "metadata": {
        "id": "LGOjTmGj3GS9"
      }
    },
    {
      "cell_type": "code",
      "source": "input(\"What is your name? \")",
      "metadata": {
        "colab": {
          "base_uri": "https://localhost:8080/",
          "height": 53
        },
        "id": "_sBzORuRnRpo",
        "outputId": "a180c2bd-1058-4304-b787-b36e7345f349"
      },
      "outputs": [
        {
          "name": "stdout",
          "output_type": "stream",
          "text": [
            "What is your name? Laura\n"
          ]
        },
        {
          "output_type": "execute_result",
          "data": {
            "text/plain": [
              "'Laura'"
            ],
            "application/vnd.google.colaboratory.intrinsic+json": {
              "type": "string"
            }
          },
          "metadata": {},
          "execution_count": 20
        }
      ],
      "execution_count": null
    },
    {
      "cell_type": "markdown",
      "source": "The data input can be set to be a variable, so it can be used later in your code.\n\nRun the code below to input a name.",
      "metadata": {
        "id": "G65whAqGLNmm"
      }
    },
    {
      "cell_type": "code",
      "source": "name = input(\"What is your name? \")\nprint(\"Hello, \" + name)",
      "metadata": {
        "colab": {
          "base_uri": "https://localhost:8080/"
        },
        "id": "UCRge73xLYdW",
        "outputId": "18744ef6-4abe-4f50-fde6-93f4d07f917d"
      },
      "outputs": [
        {
          "output_type": "stream",
          "name": "stdout",
          "text": [
            "What is your name? Laura\n",
            "Hello, Laura\n"
          ]
        }
      ],
      "execution_count": null
    },
    {
      "cell_type": "markdown",
      "source": "These are similar to IF function in spreadsheets. Tells the code if something is true, do something.",
      "metadata": {
        "id": "PpCl5LTustxG"
      }
    },
    {
      "cell_type": "markdown",
      "source": "\n\n```\nif blah1:\n  do something1\nelif blah2:\n  do something2\nelse:\n  do something3\n```\n\n",
      "metadata": {
        "id": "a6wGghYCKpqI"
      }
    },
    {
      "cell_type": "code",
      "source": "x = 1\n\nif x > 7:\n  print(\"This is true\")\nelse:\n  print(\"This is not true\")",
      "metadata": {
        "id": "acRuUzBEKpzY",
        "colab": {
          "base_uri": "https://localhost:8080/"
        },
        "outputId": "a0e7694e-d049-4be3-8f0d-5489f8e2071e"
      },
      "outputs": [
        {
          "output_type": "stream",
          "name": "stdout",
          "text": [
            "This is not true\n"
          ]
        }
      ],
      "execution_count": null
    },
    {
      "cell_type": "code",
      "source": "if x > 7:\n  print(\"x > 7\")\nelif x > 3:\n  print(\"x > 3\")\nelse:\n  print(\"x <= 3\")",
      "metadata": {
        "colab": {
          "base_uri": "https://localhost:8080/"
        },
        "id": "fVWCiwVgj1MH",
        "outputId": "32d3bb58-1d55-4d52-9978-82761f3f0217"
      },
      "outputs": [
        {
          "output_type": "stream",
          "name": "stdout",
          "text": [
            "x <= 3\n"
          ]
        }
      ],
      "execution_count": null
    },
    {
      "cell_type": "markdown",
      "source": "Silly example:",
      "metadata": {
        "id": "RlLl-NzeSx-s"
      }
    },
    {
      "cell_type": "code",
      "source": "answer = input(\"Hello. Would you like to order a pizza? \")\nif answer == \"Yes\" or answer == \"yes\":\n  type_pizza = input(\"What type of pizza? \")\n  size = input(\"What size of pizza? \")\n  print(\"You have ordered a \" + size + \" \" + type_pizza + \" pizza\")",
      "metadata": {
        "colab": {
          "base_uri": "https://localhost:8080/"
        },
        "id": "RO81PguW-bi1",
        "outputId": "8ec74520-6566-4d0b-d7ea-b280182282b6"
      },
      "outputs": [
        {
          "output_type": "stream",
          "name": "stdout",
          "text": [
            "Hello. Would you like to order a pizza? yes\n",
            "What type of pizza? Hot\n",
            "What size of pizza? Small\n",
            "You have ordered a Small Hot pizza\n"
          ]
        }
      ],
      "execution_count": null
    },
    {
      "cell_type": "markdown",
      "source": "These allow code to run until a conditional is met or for a certain number of times",
      "metadata": {
        "id": "fDwU6pR_3Jcn"
      }
    },
    {
      "cell_type": "code",
      "source": "x = 0\n\nwhile x < 10:\n  print(x)\n  x = x + 2\n\n# be careful without the last line this would run forever",
      "metadata": {
        "id": "IRfndX4i3JlP",
        "colab": {
          "base_uri": "https://localhost:8080/"
        },
        "outputId": "0d919ae9-7f5c-41c7-ec4f-b11e11375051"
      },
      "outputs": [
        {
          "output_type": "stream",
          "name": "stdout",
          "text": [
            "0\n",
            "2\n",
            "4\n",
            "6\n",
            "8\n"
          ]
        }
      ],
      "execution_count": null
    },
    {
      "cell_type": "code",
      "source": "for x in range(2,10,2): # note this stop before 10\n  print(x)",
      "metadata": {
        "colab": {
          "base_uri": "https://localhost:8080/"
        },
        "id": "D7kwCH_Vtutt",
        "outputId": "fefe95b6-08f2-4953-ab62-105eb1287136"
      },
      "outputs": [
        {
          "output_type": "stream",
          "name": "stdout",
          "text": [
            "2\n",
            "4\n",
            "6\n",
            "8\n"
          ]
        }
      ],
      "execution_count": null
    }
  ]
}