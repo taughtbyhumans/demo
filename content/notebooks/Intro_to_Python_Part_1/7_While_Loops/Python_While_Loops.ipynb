{
  "metadata": {
    "kernelspec": {
      "name": "python",
      "display_name": "Python (Pyodide)",
      "language": "python"
    },
    "language_info": {
      "codemirror_mode": {
        "name": "python",
        "version": 3
      },
      "file_extension": ".py",
      "mimetype": "text/x-python",
      "name": "python",
      "nbconvert_exporter": "python",
      "pygments_lexer": "ipython3",
      "version": "3.8"
    }
  },
  "nbformat_minor": 4,
  "nbformat": 4,
  "cells": [
    {
      "cell_type": "markdown",
      "source": "# Python - While Loops",
      "metadata": {
        "id": "W1ZhOeqc3HRI"
      }
    },
    {
      "cell_type": "markdown",
      "source": "A while loop continues to execute (run the code) as long as its condition is True.\n\nThese are useful if you don't know how many times the code will need to run.",
      "metadata": {
        "id": "fDwU6pR_3Jcn"
      }
    },
    {
      "cell_type": "markdown",
      "source": "## Example - Counting by 2",
      "metadata": {}
    },
    {
      "cell_type": "code",
      "source": "x = 0\n\nwhile x < 10:  # Run while x is less than 10\n    print(x)\n    x = x + 2  # Increment x by 2 to avoid an infinite loop",
      "metadata": {
        "id": "IRfndX4i3JlP",
        "outputId": "0d919ae9-7f5c-41c7-ec4f-b11e11375051",
        "trusted": true
      },
      "outputs": [
        {
          "name": "stdout",
          "text": "0\n2\n4\n6\n8\n",
          "output_type": "stream"
        }
      ],
      "execution_count": 2
    },
    {
      "cell_type": "markdown",
      "source": "Note:\n* The condition ``(x < 10)`` is checked before each iteration.\n* Be careful! Without the line ``x = x + 2``, this would loop forever (infinite loop).",
      "metadata": {}
    },
    {
      "cell_type": "markdown",
      "source": "## Example - Thermostat",
      "metadata": {}
    },
    {
      "cell_type": "code",
      "source": "current_temp = 15\ntarget_temp = 22\n\nwhile current_temp < target_temp:  # Keep heating until target is reached\n    print(f\"Heating... Current temperature: {current_temp}°C\")\n    current_temp += 1  # Increase temperature by 1 each time\n\nprint(f\"Target temperature of {target_temp}°C reached. Heating off.\")\n",
      "metadata": {
        "trusted": true
      },
      "outputs": [
        {
          "name": "stdout",
          "text": "Heating... Current temperature: 15°C\nHeating... Current temperature: 16°C\nHeating... Current temperature: 17°C\nHeating... Current temperature: 18°C\nHeating... Current temperature: 19°C\nHeating... Current temperature: 20°C\nHeating... Current temperature: 21°C\nTarget temperature of 22°C reached. Heating off.\n",
          "output_type": "stream"
        }
      ],
      "execution_count": 4
    }
  ]
}