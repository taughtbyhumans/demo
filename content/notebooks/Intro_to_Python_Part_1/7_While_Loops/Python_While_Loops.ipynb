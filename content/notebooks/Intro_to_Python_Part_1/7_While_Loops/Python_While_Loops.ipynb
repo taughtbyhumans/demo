{
  "cells": [
    {
      "cell_type": "markdown",
      "metadata": {
        "id": "W1ZhOeqc3HRI"
      },
      "source": [
        "# Python - While Loops"
      ]
    },
    {
      "cell_type": "markdown",
      "metadata": {
        "id": "fDwU6pR_3Jcn"
      },
      "source": [
        "A while loop continues to execute (run the code) as long as its condition is True.\n",
        "\n",
        "These are useful if you don't know how many times the code will need to run."
      ]
    },
    {
      "cell_type": "markdown",
      "metadata": {},
      "source": [
        "## Example - Counting by 2"
      ]
    },
    {
      "cell_type": "code",
      "execution_count": null,
      "metadata": {
        "id": "IRfndX4i3JlP",
        "outputId": "0d919ae9-7f5c-41c7-ec4f-b11e11375051",
        "trusted": true
      },
      "outputs": [],
      "source": [
        "x = 0\n",
        "\n",
        "while x < 10:  # Run while x is less than 10\n",
        "    print(x)\n",
        "    x = x + 2  # Increment x by 2 to avoid an infinite loop"
      ]
    },
    {
      "cell_type": "markdown",
      "metadata": {},
      "source": [
        "Note:\n",
        "* The condition ``(x < 10)`` is checked before each iteration.\n",
        "* Be careful! Without the line ``x = x + 2``, this would loop forever (infinite loop)."
      ]
    },
    {
      "cell_type": "markdown",
      "metadata": {},
      "source": [
        "## Example - Thermostat"
      ]
    },
    {
      "cell_type": "code",
      "execution_count": null,
      "metadata": {
        "trusted": true
      },
      "outputs": [],
      "source": [
        "current_temp = 15\n",
        "target_temp = 22\n",
        "\n",
        "while current_temp < target_temp:  # Keep heating until target is reached\n",
        "    print(f\"Heating... Current temperature: {current_temp}°C\")\n",
        "    current_temp += 1  # Increase temperature by 1 each time\n",
        "\n",
        "print(f\"Target temperature of {target_temp}°C reached. Heating off.\")\n"
      ]
    }
  ],
  "metadata": {
    "kernelspec": {
      "display_name": "Python (Pyodide)",
      "language": "python",
      "name": "python"
    },
    "language_info": {
      "codemirror_mode": {
        "name": "python",
        "version": 3
      },
      "file_extension": ".py",
      "mimetype": "text/x-python",
      "name": "python",
      "nbconvert_exporter": "python",
      "pygments_lexer": "ipython3",
      "version": "3.8"
    }
  },
  "nbformat": 4,
  "nbformat_minor": 4
}
