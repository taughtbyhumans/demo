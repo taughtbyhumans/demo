{
  "cells": [
    {
      "cell_type": "markdown",
      "metadata": {},
      "source": [
        "# Python - Finding and Changing Data Type"
      ]
    },
    {
      "cell_type": "code",
      "execution_count": null,
      "metadata": {},
      "outputs": [],
      "source": [
        "amount = 45"
      ]
    },
    {
      "cell_type": "markdown",
      "metadata": {
        "id": "31l1QG20kGIl"
      },
      "source": [
        "## Finding the Data Type"
      ]
    },
    {
      "cell_type": "markdown",
      "metadata": {
        "id": "6zXnotEBkRpP"
      },
      "source": [
        "To find the type of some data, literal or variable, Python has a pre-built function *type()*.\n"
      ]
    },
    {
      "cell_type": "code",
      "execution_count": null,
      "metadata": {
        "id": "-CeCGfdNjuIA",
        "outputId": "9be4a6f4-53e2-455a-be46-9bb31509cb51"
      },
      "outputs": [
        {
          "name": "stdout",
          "output_type": "stream",
          "text": [
            "<class 'int'>\n",
            "<class 'float'>\n",
            "<class 'str'>\n",
            "<class 'bool'>\n",
            "<class 'int'>\n"
          ]
        }
      ],
      "source": [
        "print(type(4))\n",
        "print(type(4.1))\n",
        "print(type(\"4\"))\n",
        "print(type(True))\n",
        "print(type(amount))"
      ]
    },
    {
      "cell_type": "markdown",
      "metadata": {
        "id": "oD5xqpZIkgQG"
      },
      "source": [
        "Notice the difference between 4 and 4.1 - int and float\n",
        "\n",
        "Also, the data type of the variable is not variable, it is the data type of the value."
      ]
    },
    {
      "cell_type": "markdown",
      "metadata": {
        "id": "KATYJJ6rji5-"
      },
      "source": [
        "## Casting to a Specific Data Type"
      ]
    },
    {
      "cell_type": "markdown",
      "metadata": {
        "id": "Pe1ua5hfjnBZ"
      },
      "source": [
        "Sometimes it is useful to change between data types, eg changes the number 4 to a string of the number 4.\n",
        "\n",
        "\n",
        "*   str() - to convert to string\n",
        "*   int() - to convert to an integer (or whole number, no decimal place)\n",
        "*   float() - to convert to a number with a decimal place\n",
        "*   bool() - to convert to a Boolean\n",
        "\n"
      ]
    },
    {
      "cell_type": "code",
      "execution_count": null,
      "metadata": {
        "id": "kCo4Kk8Zktan",
        "outputId": "008474f7-951c-4d22-b35a-d01fef9c9824"
      },
      "outputs": [
        {
          "name": "stdout",
          "output_type": "stream",
          "text": [
            "4\n",
            "<class 'int'>\n",
            "4\n",
            "<class 'str'>\n"
          ]
        }
      ],
      "source": [
        "four = 4\n",
        "print(four)\n",
        "print(type(four))\n",
        "print(str(4))\n",
        "print(type(str(four)))"
      ]
    },
    {
      "cell_type": "markdown",
      "metadata": {
        "id": "ZWWBjyIllANY"
      },
      "source": [
        "This can be very helpful for combining strings to print."
      ]
    },
    {
      "cell_type": "code",
      "execution_count": null,
      "metadata": {
        "id": "WnjxC7PDlFvx",
        "outputId": "a652b356-fdad-4205-a0df-0861da16977a"
      },
      "outputs": [
        {
          "name": "stdout",
          "output_type": "stream",
          "text": [
            "I have 4 cats.\n"
          ]
        }
      ],
      "source": [
        "print(\"I have \"+str(four)+\" cats.\")"
      ]
    },
    {
      "cell_type": "markdown",
      "metadata": {
        "id": "KcUd-I7EmASV"
      },
      "source": [
        "Not everything can be converted from one thing to another.\n",
        "\n",
        "*   All numeric data types (floats and ints) can be converted to string.\n",
        "*   All strings of just numberic characters and decimal places can be converted to floats (if it has a decimal place) or ints.\n",
        "*   The integers 0 and 1 can be cast as Booleans, and the Booleans True and False can be cast as ints.\n",
        "\n"
      ]
    },
    {
      "cell_type": "code",
      "execution_count": null,
      "metadata": {
        "id": "seitL3snmWxH",
        "outputId": "d51a3342-bdbd-49f2-ebf4-be2ad76fb10f"
      },
      "outputs": [
        {
          "name": "stdout",
          "output_type": "stream",
          "text": [
            "True\n",
            "False\n",
            "1\n",
            "0\n",
            "True\n",
            "False\n"
          ]
        }
      ],
      "source": [
        "print(bool(1))\n",
        "print(bool(0))\n",
        "print(int(True))\n",
        "print(int(False))\n",
        "print(str(True))\n",
        "print(str(False))"
      ]
    },
    {
      "cell_type": "markdown",
      "metadata": {
        "id": "HrbZvH1pm3NL"
      },
      "source": [
        "However, the strings \"true\" and \"false\" will not be cast correctly to Booleans. When a string is cast to a Boolean, if it is empty it will be False and if it is not empty it will be True."
      ]
    },
    {
      "cell_type": "code",
      "execution_count": null,
      "metadata": {
        "id": "8XRZB4Umm3Va",
        "outputId": "69d6a982-d96c-4357-94db-33264371da67"
      },
      "outputs": [
        {
          "name": "stdout",
          "output_type": "stream",
          "text": [
            "True\n",
            "True\n",
            "False\n"
          ]
        }
      ],
      "source": [
        "print(bool(\"true\"))\n",
        "print(bool(\"false\"))\n",
        "print(bool(\"\")) # An empty string is quotations marks with nothing in between"
      ]
    }
  ],
  "metadata": {
    "kernelspec": {
      "display_name": "Python (Pyodide)",
      "language": "python",
      "name": "python"
    },
    "language_info": {
      "codemirror_mode": {
        "name": "python",
        "version": 3
      },
      "file_extension": ".py",
      "mimetype": "text/x-python",
      "name": "python",
      "nbconvert_exporter": "python",
      "pygments_lexer": "ipython3",
      "version": "3.8"
    }
  },
  "nbformat": 4,
  "nbformat_minor": 4
}
