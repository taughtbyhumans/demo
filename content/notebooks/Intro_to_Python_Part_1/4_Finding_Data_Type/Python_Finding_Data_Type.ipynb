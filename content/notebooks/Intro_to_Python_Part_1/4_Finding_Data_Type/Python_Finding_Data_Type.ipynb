{
  "metadata": {
    "kernelspec": {
      "name": "python",
      "display_name": "Python (Pyodide)",
      "language": "python"
    },
    "language_info": {
      "codemirror_mode": {
        "name": "python",
        "version": 3
      },
      "file_extension": ".py",
      "mimetype": "text/x-python",
      "name": "python",
      "nbconvert_exporter": "python",
      "pygments_lexer": "ipython3",
      "version": "3.8"
    }
  },
  "nbformat_minor": 4,
  "nbformat": 4,
  "cells": [
    {
      "cell_type": "markdown",
      "source": "# Python - Finding and Changing Data Type",
      "metadata": {}
    },
    {
      "cell_type": "markdown",
      "source": "## Finding the Data Type",
      "metadata": {
        "id": "31l1QG20kGIl"
      }
    },
    {
      "cell_type": "markdown",
      "source": "To find the type of some data, literal or variable, Python has a pre-built function *type()*.\n",
      "metadata": {
        "id": "6zXnotEBkRpP"
      }
    },
    {
      "cell_type": "code",
      "source": "print(type(4))\nprint(type(4.1))\nprint(type(\"4\"))\nprint(type(True))\nprint(type(amount))",
      "metadata": {
        "id": "-CeCGfdNjuIA",
        "outputId": "9be4a6f4-53e2-455a-be46-9bb31509cb51"
      },
      "outputs": [
        {
          "output_type": "stream",
          "text": [
            "<class 'int'>\n",
            "<class 'float'>\n",
            "<class 'str'>\n",
            "<class 'bool'>\n",
            "<class 'int'>\n"
          ],
          "name": "stdout"
        }
      ],
      "execution_count": null
    },
    {
      "cell_type": "markdown",
      "source": "Notice the difference between 4 and 4.1 - int and float\n\nAlso, the data type of the variable is not variable, it is the data type of the value.",
      "metadata": {
        "id": "oD5xqpZIkgQG"
      }
    },
    {
      "cell_type": "markdown",
      "source": "## Casting to a Specific Data Type",
      "metadata": {
        "id": "KATYJJ6rji5-"
      }
    },
    {
      "cell_type": "markdown",
      "source": "Sometimes it is useful to change between data types, eg changes the number 4 to a string of the number 4.\n\n\n*   str() - to convert to string\n*   int() - to convert to an integer (or whole number, no decimal place)\n*   float() - to convert to a number with a decimal place\n*   bool() - to convert to a Boolean\n\n",
      "metadata": {
        "id": "Pe1ua5hfjnBZ"
      }
    },
    {
      "cell_type": "code",
      "source": "four = 4\nprint(four)\nprint(type(four))\nprint(str(4))\nprint(type(str(four)))",
      "metadata": {
        "id": "kCo4Kk8Zktan",
        "outputId": "008474f7-951c-4d22-b35a-d01fef9c9824"
      },
      "outputs": [
        {
          "output_type": "stream",
          "text": [
            "4\n",
            "<class 'int'>\n",
            "4\n",
            "<class 'str'>\n"
          ],
          "name": "stdout"
        }
      ],
      "execution_count": null
    },
    {
      "cell_type": "markdown",
      "source": "This can be very helpful for combining strings to print.",
      "metadata": {
        "id": "ZWWBjyIllANY"
      }
    },
    {
      "cell_type": "code",
      "source": "print(\"I have \"+str(four)+\" cats.\")",
      "metadata": {
        "id": "WnjxC7PDlFvx",
        "outputId": "a652b356-fdad-4205-a0df-0861da16977a"
      },
      "outputs": [
        {
          "output_type": "stream",
          "text": [
            "I have 4 cats.\n"
          ],
          "name": "stdout"
        }
      ],
      "execution_count": null
    },
    {
      "cell_type": "markdown",
      "source": "Not everything can be converted from one thing to another.\n\n*   All numeric data types (floats and ints) can be converted to string.\n*   All strings of just numberic characters and decimal places can be converted to floats (if it has a decimal place) or ints.\n*   The integers 0 and 1 can be cast as Booleans, and the Booleans True and False can be cast as ints.\n\n",
      "metadata": {
        "id": "KcUd-I7EmASV"
      }
    },
    {
      "cell_type": "code",
      "source": "print(bool(1))\nprint(bool(0))\nprint(int(True))\nprint(int(False))\nprint(str(True))\nprint(str(False))",
      "metadata": {
        "id": "seitL3snmWxH",
        "outputId": "d51a3342-bdbd-49f2-ebf4-be2ad76fb10f"
      },
      "outputs": [
        {
          "output_type": "stream",
          "name": "stdout",
          "text": [
            "True\n",
            "False\n",
            "1\n",
            "0\n",
            "True\n",
            "False\n"
          ]
        }
      ],
      "execution_count": null
    },
    {
      "cell_type": "markdown",
      "source": "However, the strings \"true\" and \"false\" will not be cast correctly to Booleans. When a string is cast to a Boolean, if it is empty it will be False and if it is not empty it will be True.",
      "metadata": {
        "id": "HrbZvH1pm3NL"
      }
    },
    {
      "cell_type": "code",
      "source": "print(bool(\"true\"))\nprint(bool(\"false\"))\nprint(bool(\"\")) # An empty string is quotations marks with nothing in between",
      "metadata": {
        "id": "8XRZB4Umm3Va",
        "outputId": "69d6a982-d96c-4357-94db-33264371da67"
      },
      "outputs": [
        {
          "output_type": "stream",
          "name": "stdout",
          "text": [
            "True\n",
            "True\n",
            "False\n"
          ]
        }
      ],
      "execution_count": null
    },
    {
      "cell_type": "markdown",
      "source": "Sometimes you will need to ask the user to input some information (e.g. if you are building a game or a chatbot).\n\nRun the code below to input a name.",
      "metadata": {
        "id": "LGOjTmGj3GS9"
      }
    },
    {
      "cell_type": "code",
      "source": "input(\"What is your name? \")",
      "metadata": {
        "id": "_sBzORuRnRpo",
        "outputId": "a180c2bd-1058-4304-b787-b36e7345f349"
      },
      "outputs": [
        {
          "name": "stdout",
          "output_type": "stream",
          "text": [
            "What is your name? Laura\n"
          ]
        },
        {
          "metadata": {},
          "execution_count": 20
        }
      ],
      "execution_count": null
    },
    {
      "cell_type": "markdown",
      "source": "The data input can be set to be a variable, so it can be used later in your code.\n\nRun the code below to input a name.",
      "metadata": {
        "id": "G65whAqGLNmm"
      }
    },
    {
      "cell_type": "code",
      "source": "name = input(\"What is your name? \")\nprint(\"Hello, \" + name)",
      "metadata": {
        "id": "UCRge73xLYdW",
        "outputId": "18744ef6-4abe-4f50-fde6-93f4d07f917d"
      },
      "outputs": [
        {
          "output_type": "stream",
          "name": "stdout",
          "text": [
            "What is your name? Laura\n",
            "Hello, Laura\n"
          ]
        }
      ],
      "execution_count": null
    },
    {
      "cell_type": "markdown",
      "source": "These are similar to IF function in spreadsheets. Tells the code if something is true, do something.",
      "metadata": {
        "id": "PpCl5LTustxG"
      }
    },
    {
      "cell_type": "markdown",
      "source": "\n\n```\nif blah1:\n  do something1\nelif blah2:\n  do something2\nelse:\n  do something3\n```\n\n",
      "metadata": {
        "id": "a6wGghYCKpqI"
      }
    },
    {
      "cell_type": "code",
      "source": "x = 1\n\nif x > 7:\n  print(\"This is true\")\nelse:\n  print(\"This is not true\")",
      "metadata": {
        "id": "acRuUzBEKpzY",
        "outputId": "a0e7694e-d049-4be3-8f0d-5489f8e2071e"
      },
      "outputs": [
        {
          "output_type": "stream",
          "name": "stdout",
          "text": [
            "This is not true\n"
          ]
        }
      ],
      "execution_count": null
    },
    {
      "cell_type": "code",
      "source": "if x > 7:\n  print(\"x > 7\")\nelif x > 3:\n  print(\"x > 3\")\nelse:\n  print(\"x <= 3\")",
      "metadata": {
        "id": "fVWCiwVgj1MH",
        "outputId": "32d3bb58-1d55-4d52-9978-82761f3f0217"
      },
      "outputs": [
        {
          "output_type": "stream",
          "name": "stdout",
          "text": [
            "x <= 3\n"
          ]
        }
      ],
      "execution_count": null
    },
    {
      "cell_type": "markdown",
      "source": "Silly example:",
      "metadata": {
        "id": "RlLl-NzeSx-s"
      }
    },
    {
      "cell_type": "code",
      "source": "answer = input(\"Hello. Would you like to order a pizza? \")\nif answer == \"Yes\" or answer == \"yes\":\n  type_pizza = input(\"What type of pizza? \")\n  size = input(\"What size of pizza? \")\n  print(\"You have ordered a \" + size + \" \" + type_pizza + \" pizza\")",
      "metadata": {
        "id": "RO81PguW-bi1",
        "outputId": "8ec74520-6566-4d0b-d7ea-b280182282b6"
      },
      "outputs": [
        {
          "output_type": "stream",
          "name": "stdout",
          "text": [
            "Hello. Would you like to order a pizza? yes\n",
            "What type of pizza? Hot\n",
            "What size of pizza? Small\n",
            "You have ordered a Small Hot pizza\n"
          ]
        }
      ],
      "execution_count": null
    },
    {
      "cell_type": "markdown",
      "source": "These allow code to run until a conditional is met or for a certain number of times",
      "metadata": {
        "id": "fDwU6pR_3Jcn"
      }
    },
    {
      "cell_type": "code",
      "source": "x = 0\n\nwhile x < 10:\n  print(x)\n  x = x + 2\n\n# be careful without the last line this would run forever",
      "metadata": {
        "id": "IRfndX4i3JlP",
        "outputId": "0d919ae9-7f5c-41c7-ec4f-b11e11375051"
      },
      "outputs": [
        {
          "output_type": "stream",
          "name": "stdout",
          "text": [
            "0\n",
            "2\n",
            "4\n",
            "6\n",
            "8\n"
          ]
        }
      ],
      "execution_count": null
    },
    {
      "cell_type": "code",
      "source": "for x in range(2,10,2): # note this stop before 10\n  print(x)",
      "metadata": {
        "id": "D7kwCH_Vtutt",
        "outputId": "fefe95b6-08f2-4953-ab62-105eb1287136"
      },
      "outputs": [
        {
          "output_type": "stream",
          "name": "stdout",
          "text": [
            "2\n",
            "4\n",
            "6\n",
            "8\n"
          ]
        }
      ],
      "execution_count": null
    }
  ]
}