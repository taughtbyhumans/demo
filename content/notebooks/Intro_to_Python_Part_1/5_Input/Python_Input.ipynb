{
  "cells": [
    {
      "cell_type": "markdown",
      "metadata": {
        "id": "GXklquARKqVD"
      },
      "source": [
        "# Input Statements"
      ]
    },
    {
      "cell_type": "markdown",
      "metadata": {
        "id": "LGOjTmGj3GS9"
      },
      "source": [
        "Sometimes you will need to ask the user to input some information (e.g. if you are building a game or a chatbot).\n",
        "\n",
        "Run the code below to input a name."
      ]
    },
    {
      "cell_type": "code",
      "execution_count": null,
      "metadata": {
        "id": "_sBzORuRnRpo",
        "outputId": "a180c2bd-1058-4304-b787-b36e7345f349",
        "trusted": true
      },
      "outputs": [],
      "source": [
        "input(\"What is your name? \")"
      ]
    },
    {
      "cell_type": "markdown",
      "metadata": {},
      "source": [
        "## Using the Response"
      ]
    },
    {
      "cell_type": "markdown",
      "metadata": {
        "id": "G65whAqGLNmm"
      },
      "source": [
        "The data input can be set to be a variable, so it can be used later in your code.\n",
        "\n",
        "Run the code below to input a name."
      ]
    },
    {
      "cell_type": "code",
      "execution_count": null,
      "metadata": {
        "id": "UCRge73xLYdW",
        "outputId": "18744ef6-4abe-4f50-fde6-93f4d07f917d",
        "trusted": true
      },
      "outputs": [],
      "source": [
        "name = input(\"What is your name? \")"
      ]
    },
    {
      "cell_type": "code",
      "execution_count": null,
      "metadata": {
        "trusted": true
      },
      "outputs": [],
      "source": [
        "print(\"Hello, \" + name)"
      ]
    },
    {
      "cell_type": "code",
      "execution_count": null,
      "metadata": {
        "trusted": true
      },
      "outputs": [],
      "source": [
        "print(\"Hello, \" + str(name))"
      ]
    },
    {
      "cell_type": "markdown",
      "metadata": {},
      "source": [
        "## Await"
      ]
    },
    {
      "cell_type": "markdown",
      "metadata": {},
      "source": [
        "We can use the command ``await`` to tell the notebook to wait for the input response before assigning a value to name. This ensures name has the correct data type and allows other code to run without being blocked while the user provides input.\n",
        "\n",
        "Note: This type of programming is called *asynchronous* because code execution does not happen all at once or strictly in order."
      ]
    },
    {
      "cell_type": "code",
      "execution_count": null,
      "metadata": {
        "trusted": true
      },
      "outputs": [],
      "source": [
        "name = await input(\"What is your name? \")"
      ]
    },
    {
      "cell_type": "code",
      "execution_count": null,
      "metadata": {
        "trusted": true
      },
      "outputs": [],
      "source": [
        "print(\"Hello, \" + name)"
      ]
    }
  ],
  "metadata": {
    "kernelspec": {
      "display_name": "Python (Pyodide)",
      "language": "python",
      "name": "python"
    },
    "language_info": {
      "codemirror_mode": {
        "name": "python",
        "version": 3
      },
      "file_extension": ".py",
      "mimetype": "text/x-python",
      "name": "python",
      "nbconvert_exporter": "python",
      "pygments_lexer": "ipython3",
      "version": "3.8"
    }
  },
  "nbformat": 4,
  "nbformat_minor": 4
}
