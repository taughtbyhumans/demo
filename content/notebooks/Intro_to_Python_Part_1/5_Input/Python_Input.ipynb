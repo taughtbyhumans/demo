{
  "metadata": {
    "kernelspec": {
      "name": "python",
      "display_name": "Python (Pyodide)",
      "language": "python"
    },
    "language_info": {
      "codemirror_mode": {
        "name": "python",
        "version": 3
      },
      "file_extension": ".py",
      "mimetype": "text/x-python",
      "name": "python",
      "nbconvert_exporter": "python",
      "pygments_lexer": "ipython3",
      "version": "3.8"
    }
  },
  "nbformat_minor": 4,
  "nbformat": 4,
  "cells": [
    {
      "cell_type": "markdown",
      "source": "# Input Statements",
      "metadata": {
        "id": "GXklquARKqVD"
      }
    },
    {
      "cell_type": "markdown",
      "source": "Sometimes you will need to ask the user to input some information (e.g. if you are building a game or a chatbot).\n\nRun the code below to input a name.",
      "metadata": {
        "id": "LGOjTmGj3GS9"
      }
    },
    {
      "cell_type": "code",
      "source": "input(\"What is your name? \")",
      "metadata": {
        "id": "_sBzORuRnRpo",
        "outputId": "a180c2bd-1058-4304-b787-b36e7345f349",
        "trusted": true
      },
      "outputs": [
        {
          "execution_count": 1,
          "output_type": "execute_result",
          "data": {
            "text/plain": "<PyodideFuture pending cb=[WebLoop._decrement_in_progress()]>"
          },
          "metadata": {}
        },
        {
          "output_type": "stream",
          "name": "stdin",
          "text": "What is your name?  Laura\n"
        }
      ],
      "execution_count": 1
    },
    {
      "cell_type": "markdown",
      "source": "## Using the Response",
      "metadata": {}
    },
    {
      "cell_type": "markdown",
      "source": "The data input can be set to be a variable, so it can be used later in your code.\n\nRun the code below to input a name.",
      "metadata": {
        "id": "G65whAqGLNmm"
      }
    },
    {
      "cell_type": "code",
      "source": "name = input(\"What is your name? \")",
      "metadata": {
        "id": "UCRge73xLYdW",
        "outputId": "18744ef6-4abe-4f50-fde6-93f4d07f917d",
        "trusted": true
      },
      "outputs": [
        {
          "output_type": "stream",
          "name": "stdin",
          "text": "What is your name?  Laura\n"
        }
      ],
      "execution_count": 5
    },
    {
      "cell_type": "code",
      "source": "print(\"Hello, \" + name)",
      "metadata": {
        "trusted": true
      },
      "outputs": [
        {
          "ename": "<class 'TypeError'>",
          "evalue": "can only concatenate str (not \"PyodideFuture\") to str",
          "traceback": [
            "\u001b[0;31m---------------------------------------------------------------------------\u001b[0m",
            "\u001b[0;31mTypeError\u001b[0m                                 Traceback (most recent call last)",
            "Cell \u001b[0;32mIn[6], line 1\u001b[0m\n\u001b[0;32m----> 1\u001b[0m \u001b[38;5;28mprint\u001b[39m(\u001b[38;5;124;43m\"\u001b[39;49m\u001b[38;5;124;43mHello, \u001b[39;49m\u001b[38;5;124;43m\"\u001b[39;49m\u001b[43m \u001b[49m\u001b[38;5;241;43m+\u001b[39;49m\u001b[43m \u001b[49m\u001b[43mname\u001b[49m)\n",
            "\u001b[0;31mTypeError\u001b[0m: can only concatenate str (not \"PyodideFuture\") to str"
          ],
          "output_type": "error"
        }
      ],
      "execution_count": 6
    },
    {
      "cell_type": "code",
      "source": "print(\"Hello, \" + str(name))",
      "metadata": {
        "trusted": true
      },
      "outputs": [
        {
          "name": "stdout",
          "text": "Hello, <PyodideFuture finished result='Laura'>\n",
          "output_type": "stream"
        }
      ],
      "execution_count": 7
    },
    {
      "cell_type": "markdown",
      "source": "## Await",
      "metadata": {}
    },
    {
      "cell_type": "markdown",
      "source": "We can use the command ``await`` to tell the notebook to wait for the input response before assigning a value to name. This ensures name has the correct data type and allows other code to run without being blocked while the user provides input.\n\nNote: This type of programming is called *asynchronous* because code execution does not happen all at once or strictly in order.",
      "metadata": {}
    },
    {
      "cell_type": "code",
      "source": "name = await input(\"What is your name? \")",
      "metadata": {
        "trusted": true
      },
      "outputs": [
        {
          "output_type": "stream",
          "name": "stdin",
          "text": "What is your name?  Laura\n"
        }
      ],
      "execution_count": 8
    },
    {
      "cell_type": "code",
      "source": "print(\"Hello, \" + name)",
      "metadata": {
        "trusted": true
      },
      "outputs": [
        {
          "name": "stdout",
          "text": "Hello, Laura\n",
          "output_type": "stream"
        }
      ],
      "execution_count": 9
    },
    {
      "cell_type": "markdown",
      "source": "These are similar to IF function in spreadsheets. Tells the code if something is true, do something.",
      "metadata": {
        "id": "PpCl5LTustxG"
      }
    },
    {
      "cell_type": "markdown",
      "source": "\n\n```\nif blah1:\n  do something1\nelif blah2:\n  do something2\nelse:\n  do something3\n```\n\n",
      "metadata": {
        "id": "a6wGghYCKpqI"
      }
    },
    {
      "cell_type": "code",
      "source": "x = 1\n\nif x > 7:\n  print(\"This is true\")\nelse:\n  print(\"This is not true\")",
      "metadata": {
        "id": "acRuUzBEKpzY",
        "outputId": "a0e7694e-d049-4be3-8f0d-5489f8e2071e"
      },
      "outputs": [
        {
          "output_type": "stream",
          "name": "stdout",
          "text": [
            "This is not true\n"
          ]
        }
      ],
      "execution_count": null
    },
    {
      "cell_type": "code",
      "source": "if x > 7:\n  print(\"x > 7\")\nelif x > 3:\n  print(\"x > 3\")\nelse:\n  print(\"x <= 3\")",
      "metadata": {
        "id": "fVWCiwVgj1MH",
        "outputId": "32d3bb58-1d55-4d52-9978-82761f3f0217"
      },
      "outputs": [
        {
          "output_type": "stream",
          "name": "stdout",
          "text": [
            "x <= 3\n"
          ]
        }
      ],
      "execution_count": null
    },
    {
      "cell_type": "markdown",
      "source": "Silly example:",
      "metadata": {
        "id": "RlLl-NzeSx-s"
      }
    },
    {
      "cell_type": "code",
      "source": "answer = input(\"Hello. Would you like to order a pizza? \")\nif answer == \"Yes\" or answer == \"yes\":\n  type_pizza = input(\"What type of pizza? \")\n  size = input(\"What size of pizza? \")\n  print(\"You have ordered a \" + size + \" \" + type_pizza + \" pizza\")",
      "metadata": {
        "id": "RO81PguW-bi1",
        "outputId": "8ec74520-6566-4d0b-d7ea-b280182282b6"
      },
      "outputs": [
        {
          "output_type": "stream",
          "name": "stdout",
          "text": [
            "Hello. Would you like to order a pizza? yes\n",
            "What type of pizza? Hot\n",
            "What size of pizza? Small\n",
            "You have ordered a Small Hot pizza\n"
          ]
        }
      ],
      "execution_count": null
    },
    {
      "cell_type": "markdown",
      "source": "These allow code to run until a conditional is met or for a certain number of times",
      "metadata": {
        "id": "fDwU6pR_3Jcn"
      }
    },
    {
      "cell_type": "code",
      "source": "x = 0\n\nwhile x < 10:\n  print(x)\n  x = x + 2\n\n# be careful without the last line this would run forever",
      "metadata": {
        "id": "IRfndX4i3JlP",
        "outputId": "0d919ae9-7f5c-41c7-ec4f-b11e11375051"
      },
      "outputs": [
        {
          "output_type": "stream",
          "name": "stdout",
          "text": [
            "0\n",
            "2\n",
            "4\n",
            "6\n",
            "8\n"
          ]
        }
      ],
      "execution_count": null
    },
    {
      "cell_type": "code",
      "source": "for x in range(2,10,2): # note this stop before 10\n  print(x)",
      "metadata": {
        "id": "D7kwCH_Vtutt",
        "outputId": "fefe95b6-08f2-4953-ab62-105eb1287136"
      },
      "outputs": [
        {
          "output_type": "stream",
          "name": "stdout",
          "text": [
            "2\n",
            "4\n",
            "6\n",
            "8\n"
          ]
        }
      ],
      "execution_count": null
    }
  ]
}