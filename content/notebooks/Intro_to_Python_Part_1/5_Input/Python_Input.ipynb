{
  "cells": [
    {
      "cell_type": "markdown",
      "metadata": {
        "id": "GXklquARKqVD"
      },
      "source": [
        "# Input Statements"
      ]
    },
    {
      "cell_type": "markdown",
      "metadata": {
        "id": "LGOjTmGj3GS9"
      },
      "source": [
        "Sometimes you will need to ask the user to input some information (e.g. if you are building a game or a chatbot).\n",
        "\n",
        "Run the code below to input a name."
      ]
    },
    {
      "cell_type": "code",
      "execution_count": 1,
      "metadata": {
        "id": "_sBzORuRnRpo",
        "outputId": "a180c2bd-1058-4304-b787-b36e7345f349",
        "trusted": true
      },
      "outputs": [
        {
          "data": {
            "text/plain": [
              "<PyodideFuture pending cb=[WebLoop._decrement_in_progress()]>"
            ]
          },
          "execution_count": 1,
          "metadata": {},
          "output_type": "execute_result"
        },
        {
          "name": "stdout",
          "output_type": "stream",
          "text": [
            "What is your name?  Laura\n"
          ]
        }
      ],
      "source": [
        "input(\"What is your name? \")"
      ]
    },
    {
      "cell_type": "markdown",
      "metadata": {},
      "source": [
        "## Using the Response"
      ]
    },
    {
      "cell_type": "markdown",
      "metadata": {
        "id": "G65whAqGLNmm"
      },
      "source": [
        "The data input can be set to be a variable, so it can be used later in your code.\n",
        "\n",
        "Run the code below to input a name."
      ]
    },
    {
      "cell_type": "code",
      "execution_count": 5,
      "metadata": {
        "id": "UCRge73xLYdW",
        "outputId": "18744ef6-4abe-4f50-fde6-93f4d07f917d",
        "trusted": true
      },
      "outputs": [
        {
          "name": "stdout",
          "output_type": "stream",
          "text": [
            "What is your name?  Laura\n"
          ]
        }
      ],
      "source": [
        "name = input(\"What is your name? \")"
      ]
    },
    {
      "cell_type": "code",
      "execution_count": 6,
      "metadata": {
        "trusted": true
      },
      "outputs": [
        {
          "ename": "<class 'TypeError'>",
          "evalue": "can only concatenate str (not \"PyodideFuture\") to str",
          "output_type": "error",
          "traceback": [
            "\u001b[0;31m---------------------------------------------------------------------------\u001b[0m",
            "\u001b[0;31mTypeError\u001b[0m                                 Traceback (most recent call last)",
            "Cell \u001b[0;32mIn[6], line 1\u001b[0m\n\u001b[0;32m----> 1\u001b[0m \u001b[38;5;28mprint\u001b[39m(\u001b[38;5;124;43m\"\u001b[39;49m\u001b[38;5;124;43mHello, \u001b[39;49m\u001b[38;5;124;43m\"\u001b[39;49m\u001b[43m \u001b[49m\u001b[38;5;241;43m+\u001b[39;49m\u001b[43m \u001b[49m\u001b[43mname\u001b[49m)\n",
            "\u001b[0;31mTypeError\u001b[0m: can only concatenate str (not \"PyodideFuture\") to str"
          ]
        }
      ],
      "source": [
        "print(\"Hello, \" + name)"
      ]
    },
    {
      "cell_type": "code",
      "execution_count": 7,
      "metadata": {
        "trusted": true
      },
      "outputs": [
        {
          "name": "stdout",
          "output_type": "stream",
          "text": [
            "Hello, <PyodideFuture finished result='Laura'>\n"
          ]
        }
      ],
      "source": [
        "print(\"Hello, \" + str(name))"
      ]
    },
    {
      "cell_type": "markdown",
      "metadata": {},
      "source": [
        "## Await"
      ]
    },
    {
      "cell_type": "markdown",
      "metadata": {},
      "source": [
        "We can use the command ``await`` to tell the notebook to wait for the input response before assigning a value to name. This ensures name has the correct data type and allows other code to run without being blocked while the user provides input.\n",
        "\n",
        "Note: This type of programming is called *asynchronous* because code execution does not happen all at once or strictly in order."
      ]
    },
    {
      "cell_type": "code",
      "execution_count": 8,
      "metadata": {
        "trusted": true
      },
      "outputs": [
        {
          "name": "stdout",
          "output_type": "stream",
          "text": [
            "What is your name?  Laura\n"
          ]
        }
      ],
      "source": [
        "name = await input(\"What is your name? \")"
      ]
    },
    {
      "cell_type": "code",
      "execution_count": 9,
      "metadata": {
        "trusted": true
      },
      "outputs": [
        {
          "name": "stdout",
          "output_type": "stream",
          "text": [
            "Hello, Laura\n"
          ]
        }
      ],
      "source": [
        "print(\"Hello, \" + name)"
      ]
    }
  ],
  "metadata": {
    "kernelspec": {
      "display_name": "Python (Pyodide)",
      "language": "python",
      "name": "python"
    },
    "language_info": {
      "codemirror_mode": {
        "name": "python",
        "version": 3
      },
      "file_extension": ".py",
      "mimetype": "text/x-python",
      "name": "python",
      "nbconvert_exporter": "python",
      "pygments_lexer": "ipython3",
      "version": "3.8"
    }
  },
  "nbformat": 4,
  "nbformat_minor": 4
}
